{
 "cells": [
  {
   "cell_type": "code",
   "execution_count": 20,
   "metadata": {},
   "outputs": [
    {
     "name": "stdout",
     "output_type": "stream",
     "text": [
      "[nltk_data] Downloading package punkt to\n",
      "[nltk_data]     /Users/brucedecker/nltk_data...\n",
      "[nltk_data]   Package punkt is already up-to-date!\n",
      "[nltk_data] Downloading package stopwords to\n",
      "[nltk_data]     /Users/brucedecker/nltk_data...\n",
      "[nltk_data]   Package stopwords is already up-to-date!\n"
     ]
    }
   ],
   "source": [
    "import pandas as pd\n",
    "import numpy as np\n",
    "import sklearn\n",
    "import matplotlib.pyplot as plt\n",
    "import re \n",
    "import nltk\n",
    "from nltk.corpus import stopwords\n",
    "from nltk.stem import SnowballStemmer\n",
    "nltk.download('punkt')\n",
    "nltk.download('stopwords')\n",
    "words = stopwords.words(\"english\")\n",
    "stemmer = SnowballStemmer('english')\n",
    "from sklearn.feature_extraction.text import TfidfVectorizer\n",
    "from sklearn.feature_selection import SelectKBest, chi2, SelectPercentile\n",
    "from sklearn.model_selection import train_test_split\n",
    "from sklearn.preprocessing import Imputer\n",
    "from sklearn.svm import LinearSVC"
   ]
  },
  {
   "cell_type": "code",
   "execution_count": 21,
   "metadata": {},
   "outputs": [],
   "source": [
    "stopwords_set = set(stopwords.words(\"english\"))\n",
    "df_listing_detail = pd.read_csv('airbnb-open-data-in-nyc/listings_detail.csv', keep_default_na=False, skip_blank_lines=False, engine='python')\n",
    "df_listing_detail = df_listing_detail.replace(np.nan, '', regex=True)\n",
    "stopwords_set = set(stopwords.words(\"english\"))"
   ]
  },
  {
   "cell_type": "code",
   "execution_count": 22,
   "metadata": {},
   "outputs": [],
   "source": [
    "df_listing_detail['tweet_without_stopwords'] = df_listing_detail['amenities'].apply(lambda x: ' '.join([word for word in x.split() if word not in (stopwords_set)]))\n",
    "\n",
    "\n"
   ]
  },
  {
   "cell_type": "code",
   "execution_count": 23,
   "metadata": {},
   "outputs": [],
   "source": [
    "df_listing_detail['tweet_without_stopwords'] = df_listing_detail['tweet_without_stopwords'].str.replace(r\"[\\{\\},]\", ' ')\n",
    "\n"
   ]
  },
  {
   "cell_type": "code",
   "execution_count": 25,
   "metadata": {},
   "outputs": [],
   "source": [
    "df_listing_detail['tweet_without_stopwords'] = df_listing_detail['tweet_without_stopwords'].str.replace(r\"[\\\"\\',]\", ' ')\n",
    "\n"
   ]
  },
  {
   "cell_type": "code",
   "execution_count": 26,
   "metadata": {},
   "outputs": [
    {
     "data": {
      "text/plain": [
       "0         TV  Wireless Internet   Air conditioning  Kit...\n",
       "1          Wireless Internet   Air conditioning  Kitche...\n",
       "2         TV Internet  Wireless Internet   Air conditio...\n",
       "3                                                         \n",
       "4         TV  Cable TV  Internet  Wireless Internet   A...\n",
       "5         Internet  Wireless Internet   Air conditionin...\n",
       "6         TV  Air conditioning  Kitchen  Free parking p...\n",
       "7          Cable TV   Wireless Internet   Air condition...\n",
       "8         TV  Wireless Internet   Air conditioning  Kit...\n",
       "9         TV Internet  Wireless Internet   Air conditio...\n",
       "10        TV  Wireless Internet   Air conditioning  Kit...\n",
       "11        TV  Cable TV  Internet  Wireless Internet   A...\n",
       "12         Wireless Internet   Air conditioning  Kitche...\n",
       "13        TV  Cable TV  Internet  Wireless Internet   A...\n",
       "14        Internet  Wireless Internet   Air conditionin...\n",
       "15        TV  Cable TV  Internet  Wireless Internet   A...\n",
       "16        TV Internet  Wireless Internet   Air conditio...\n",
       "17        TV  Wireless Internet   Air conditioning  Kit...\n",
       "18        TV  Cable TV  Internet  Wireless Internet   A...\n",
       "19        TV  Wireless Internet   Air conditioning  Kit...\n",
       "20        TV  Cable TV  Internet  Wireless Internet   A...\n",
       "21        Internet  Wireless Internet  Kitchen  Smoking...\n",
       "22        TV Internet  Wireless Internet   Air conditio...\n",
       "23        TV  Wireless Internet   Air conditioning  Kit...\n",
       "24        TV Internet  Wireless Internet  Kitchen Heati...\n",
       "25        TV  Cable TV   Wireless Internet   Air condit...\n",
       "26        TV Internet  Wireless Internet   Air conditio...\n",
       "27        TV Internet  Wireless Internet   Air conditio...\n",
       "28        TV Internet  Air conditioning   Wheelchair ac...\n",
       "29        TV  Cable TV  Internet  Wireless Internet   A...\n",
       "                               ...                        \n",
       "44287     TV Internet  Wireless Internet   Air conditio...\n",
       "44288      Cable TV  Internet  Wireless Internet   Air ...\n",
       "44289     TV Internet  Wireless Internet   Air conditio...\n",
       "44290      Wireless Internet  Kitchen  Smoke detector  ...\n",
       "44291     Internet  Wireless Internet  Kitchen Heating ...\n",
       "44292     Internet  Wireless Internet   Air conditionin...\n",
       "44293     Internet  Wireless Internet   Air conditionin...\n",
       "44294      Wireless Internet   Smoke detector  Essentia...\n",
       "44295     TV  Wireless Internet   Air conditioning  Kit...\n",
       "44296     TV  Cable TV   Wireless Internet   Air condit...\n",
       "44297     TV  Wireless Internet   Air conditioning  Kit...\n",
       "44298      Wireless Internet  Kitchen Breakfast  Family...\n",
       "44299     Internet  Wireless Internet   Air conditionin...\n",
       "44300     TV  Wireless Internet   Air conditioning  Kit...\n",
       "44301     TV  Wireless Internet   Air conditioning  Kit...\n",
       "44302     TV  Wireless Internet   Air conditioning  Kit...\n",
       "44303     TV  Cable TV  Internet  Wireless Internet   A...\n",
       "44304     TV  Wireless Internet   Air conditioning  Poo...\n",
       "44305     TV  Cable TV   Wireless Internet   Air condit...\n",
       "44306      Wireless Internet   Air conditioning  Kitche...\n",
       "44307      Wireless Internet  Kitchen Heating  Family/k...\n",
       "44308      Wireless Internet   Air conditioning  Kitche...\n",
       "44309     TV Internet  Wireless Internet  Kitchen Heati...\n",
       "44310     TV  Wireless Internet   Air conditioning  Poo...\n",
       "44311      Wireless Internet  Kitchen  Free parking pre...\n",
       "44312      Wireless Internet   Air conditioning  Kitche...\n",
       "44313      Wireless Internet   Air conditioning  Kitche...\n",
       "44314      Wheelchair accessible  Kitchen  Free parking...\n",
       "44315     TV  Cable TV   Wireless Internet   Air condit...\n",
       "44316     TV  Wireless Internet   Air conditioning  Kit...\n",
       "Name: tweet_without_stopwords, Length: 44317, dtype: object"
      ]
     },
     "execution_count": 26,
     "metadata": {},
     "output_type": "execute_result"
    }
   ],
   "source": [
    "df_listing_detail['tweet_without_stopwords']"
   ]
  },
  {
   "cell_type": "code",
   "execution_count": null,
   "metadata": {},
   "outputs": [],
   "source": []
  }
 ],
 "metadata": {
  "kernelspec": {
   "display_name": "Python 3",
   "language": "python",
   "name": "python3"
  },
  "language_info": {
   "codemirror_mode": {
    "name": "ipython",
    "version": 3
   },
   "file_extension": ".py",
   "mimetype": "text/x-python",
   "name": "python",
   "nbconvert_exporter": "python",
   "pygments_lexer": "ipython3",
   "version": "3.6.5"
  }
 },
 "nbformat": 4,
 "nbformat_minor": 2
}

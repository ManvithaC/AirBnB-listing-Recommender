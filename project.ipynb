{
 "cells": [
  {
   "cell_type": "code",
   "execution_count": 3,
   "metadata": {},
   "outputs": [
    {
     "name": "stdout",
     "output_type": "stream",
     "text": [
      "[nltk_data] Downloading package punkt to\n",
      "[nltk_data]     /Users/brucedecker/nltk_data...\n",
      "[nltk_data]   Package punkt is already up-to-date!\n",
      "[nltk_data] Downloading package stopwords to\n",
      "[nltk_data]     /Users/brucedecker/nltk_data...\n",
      "[nltk_data]   Package stopwords is already up-to-date!\n"
     ]
    }
   ],
   "source": [
    "import pandas as pd\n",
    "import numpy as np\n",
    "import sklearn\n",
    "import matplotlib.pyplot as plt\n",
    "import re \n",
    "import nltk\n",
    "from nltk.corpus import stopwords\n",
    "from nltk.stem import SnowballStemmer\n",
    "nltk.download('punkt')\n",
    "nltk.download('stopwords')\n",
    "words = stopwords.words(\"english\")\n",
    "stemmer = SnowballStemmer('english')\n",
    "from sklearn.feature_extraction.text import TfidfVectorizer\n",
    "from sklearn.feature_selection import SelectKBest, chi2, SelectPercentile\n",
    "from sklearn.model_selection import train_test_split\n",
    "from sklearn.preprocessing import Imputer\n",
    "from sklearn.svm import LinearSVC\n",
    "\n"
   ]
  },
  {
   "cell_type": "code",
   "execution_count": 4,
   "metadata": {},
   "outputs": [],
   "source": [
    "stopwords_set = set(stopwords.words(\"english\"))\n",
    "df_listing_detail = pd.read_csv('airbnb-open-data-in-nyc/listings_detail.csv', keep_default_na=False, skip_blank_lines=False, engine='python')\n",
    "df_listing_detail = df_listing_detail.replace(np.nan, '', regex=True)\n",
    "\n",
    "\n"
   ]
  },
  {
   "cell_type": "code",
   "execution_count": 5,
   "metadata": {},
   "outputs": [
    {
     "data": {
      "text/html": [
       "<div>\n",
       "<style scoped>\n",
       "    .dataframe tbody tr th:only-of-type {\n",
       "        vertical-align: middle;\n",
       "    }\n",
       "\n",
       "    .dataframe tbody tr th {\n",
       "        vertical-align: top;\n",
       "    }\n",
       "\n",
       "    .dataframe thead th {\n",
       "        text-align: right;\n",
       "    }\n",
       "</style>\n",
       "<table border=\"1\" class=\"dataframe\">\n",
       "  <thead>\n",
       "    <tr style=\"text-align: right;\">\n",
       "      <th></th>\n",
       "      <th>id</th>\n",
       "      <th>listing_url</th>\n",
       "      <th>scrape_id</th>\n",
       "      <th>last_scraped</th>\n",
       "      <th>name</th>\n",
       "      <th>summary</th>\n",
       "      <th>space</th>\n",
       "      <th>description</th>\n",
       "      <th>experiences_offered</th>\n",
       "      <th>neighborhood_overview</th>\n",
       "      <th>...</th>\n",
       "      <th>requires_license</th>\n",
       "      <th>license</th>\n",
       "      <th>jurisdiction_names</th>\n",
       "      <th>instant_bookable</th>\n",
       "      <th>is_business_travel_ready</th>\n",
       "      <th>cancellation_policy</th>\n",
       "      <th>require_guest_profile_picture</th>\n",
       "      <th>require_guest_phone_verification</th>\n",
       "      <th>calculated_host_listings_count</th>\n",
       "      <th>reviews_per_month</th>\n",
       "    </tr>\n",
       "  </thead>\n",
       "  <tbody>\n",
       "    <tr>\n",
       "      <th>0</th>\n",
       "      <td>18461891</td>\n",
       "      <td>https://www.airbnb.com/rooms/18461891</td>\n",
       "      <td>20171002002103</td>\n",
       "      <td>2017-10-03</td>\n",
       "      <td>Bright, comfortable 1B studio near everything!</td>\n",
       "      <td>*Looking to fill these specific dates: June 24...</td>\n",
       "      <td>Very well illuminated space includes comfortab...</td>\n",
       "      <td>*Looking to fill these specific dates: June 24...</td>\n",
       "      <td>none</td>\n",
       "      <td>There are Michelin-rated restaurants in the ar...</td>\n",
       "      <td>...</td>\n",
       "      <td>f</td>\n",
       "      <td></td>\n",
       "      <td></td>\n",
       "      <td>f</td>\n",
       "      <td>f</td>\n",
       "      <td>strict</td>\n",
       "      <td>f</td>\n",
       "      <td>f</td>\n",
       "      <td>1</td>\n",
       "      <td></td>\n",
       "    </tr>\n",
       "    <tr>\n",
       "      <th>1</th>\n",
       "      <td>20702398</td>\n",
       "      <td>https://www.airbnb.com/rooms/20702398</td>\n",
       "      <td>20171002002103</td>\n",
       "      <td>2017-10-03</td>\n",
       "      <td>Quiet house on City Island</td>\n",
       "      <td>1 private bedroom and bathroom available for o...</td>\n",
       "      <td></td>\n",
       "      <td>1 private bedroom and bathroom available for o...</td>\n",
       "      <td>none</td>\n",
       "      <td>This neighborhood is dope! Lot's of seafood re...</td>\n",
       "      <td>...</td>\n",
       "      <td>f</td>\n",
       "      <td></td>\n",
       "      <td></td>\n",
       "      <td>f</td>\n",
       "      <td>f</td>\n",
       "      <td>moderate</td>\n",
       "      <td>f</td>\n",
       "      <td>f</td>\n",
       "      <td>1</td>\n",
       "      <td>2</td>\n",
       "    </tr>\n",
       "    <tr>\n",
       "      <th>2</th>\n",
       "      <td>6627449</td>\n",
       "      <td>https://www.airbnb.com/rooms/6627449</td>\n",
       "      <td>20171002002103</td>\n",
       "      <td>2017-10-03</td>\n",
       "      <td>Large 1 BDRM in Great location</td>\n",
       "      <td>This ground floor apartment is light and airy ...</td>\n",
       "      <td>We are close to fishing, boating, biking, hors...</td>\n",
       "      <td>This ground floor apartment is light and airy ...</td>\n",
       "      <td>none</td>\n",
       "      <td>City Island is a unique and a hidden gem of Ne...</td>\n",
       "      <td>...</td>\n",
       "      <td>f</td>\n",
       "      <td></td>\n",
       "      <td></td>\n",
       "      <td>f</td>\n",
       "      <td>f</td>\n",
       "      <td>strict</td>\n",
       "      <td>f</td>\n",
       "      <td>f</td>\n",
       "      <td>1</td>\n",
       "      <td>0.77</td>\n",
       "    </tr>\n",
       "    <tr>\n",
       "      <th>3</th>\n",
       "      <td>19949243</td>\n",
       "      <td>https://www.airbnb.com/rooms/19949243</td>\n",
       "      <td>20171002002103</td>\n",
       "      <td>2017-10-03</td>\n",
       "      <td>Stay aboard  a sailboat</td>\n",
       "      <td>stay aboard a sailboat</td>\n",
       "      <td></td>\n",
       "      <td>stay aboard a sailboat</td>\n",
       "      <td>none</td>\n",
       "      <td></td>\n",
       "      <td>...</td>\n",
       "      <td>f</td>\n",
       "      <td></td>\n",
       "      <td></td>\n",
       "      <td>t</td>\n",
       "      <td>f</td>\n",
       "      <td>strict</td>\n",
       "      <td>f</td>\n",
       "      <td>f</td>\n",
       "      <td>1</td>\n",
       "      <td></td>\n",
       "    </tr>\n",
       "    <tr>\n",
       "      <th>4</th>\n",
       "      <td>1886820</td>\n",
       "      <td>https://www.airbnb.com/rooms/1886820</td>\n",
       "      <td>20171002002103</td>\n",
       "      <td>2017-10-03</td>\n",
       "      <td>Quaint City Island Community.</td>\n",
       "      <td>Quiet island  boating town on Long Island Soun...</td>\n",
       "      <td>Master bed with queen bed, full bath and offi...</td>\n",
       "      <td>Quiet island  boating town on Long Island Soun...</td>\n",
       "      <td>none</td>\n",
       "      <td>Small New England type town in the middle of ...</td>\n",
       "      <td>...</td>\n",
       "      <td>f</td>\n",
       "      <td></td>\n",
       "      <td></td>\n",
       "      <td>f</td>\n",
       "      <td>f</td>\n",
       "      <td>strict</td>\n",
       "      <td>f</td>\n",
       "      <td>f</td>\n",
       "      <td>1</td>\n",
       "      <td></td>\n",
       "    </tr>\n",
       "  </tbody>\n",
       "</table>\n",
       "<p>5 rows × 96 columns</p>\n",
       "</div>"
      ],
      "text/plain": [
       "         id                            listing_url       scrape_id  \\\n",
       "0  18461891  https://www.airbnb.com/rooms/18461891  20171002002103   \n",
       "1  20702398  https://www.airbnb.com/rooms/20702398  20171002002103   \n",
       "2   6627449   https://www.airbnb.com/rooms/6627449  20171002002103   \n",
       "3  19949243  https://www.airbnb.com/rooms/19949243  20171002002103   \n",
       "4   1886820   https://www.airbnb.com/rooms/1886820  20171002002103   \n",
       "\n",
       "  last_scraped                                            name  \\\n",
       "0   2017-10-03  Bright, comfortable 1B studio near everything!   \n",
       "1   2017-10-03                      Quiet house on City Island   \n",
       "2   2017-10-03                  Large 1 BDRM in Great location   \n",
       "3   2017-10-03                         Stay aboard  a sailboat   \n",
       "4   2017-10-03                  Quaint City Island Community.    \n",
       "\n",
       "                                             summary  \\\n",
       "0  *Looking to fill these specific dates: June 24...   \n",
       "1  1 private bedroom and bathroom available for o...   \n",
       "2  This ground floor apartment is light and airy ...   \n",
       "3                             stay aboard a sailboat   \n",
       "4  Quiet island  boating town on Long Island Soun...   \n",
       "\n",
       "                                               space  \\\n",
       "0  Very well illuminated space includes comfortab...   \n",
       "1                                                      \n",
       "2  We are close to fishing, boating, biking, hors...   \n",
       "3                                                      \n",
       "4   Master bed with queen bed, full bath and offi...   \n",
       "\n",
       "                                         description experiences_offered  \\\n",
       "0  *Looking to fill these specific dates: June 24...                none   \n",
       "1  1 private bedroom and bathroom available for o...                none   \n",
       "2  This ground floor apartment is light and airy ...                none   \n",
       "3                             stay aboard a sailboat                none   \n",
       "4  Quiet island  boating town on Long Island Soun...                none   \n",
       "\n",
       "                               neighborhood_overview        ...          \\\n",
       "0  There are Michelin-rated restaurants in the ar...        ...           \n",
       "1  This neighborhood is dope! Lot's of seafood re...        ...           \n",
       "2  City Island is a unique and a hidden gem of Ne...        ...           \n",
       "3                                                           ...           \n",
       "4   Small New England type town in the middle of ...        ...           \n",
       "\n",
       "  requires_license license jurisdiction_names instant_bookable  \\\n",
       "0                f                                           f   \n",
       "1                f                                           f   \n",
       "2                f                                           f   \n",
       "3                f                                           t   \n",
       "4                f                                           f   \n",
       "\n",
       "  is_business_travel_ready cancellation_policy require_guest_profile_picture  \\\n",
       "0                        f              strict                             f   \n",
       "1                        f            moderate                             f   \n",
       "2                        f              strict                             f   \n",
       "3                        f              strict                             f   \n",
       "4                        f              strict                             f   \n",
       "\n",
       "  require_guest_phone_verification calculated_host_listings_count  \\\n",
       "0                                f                              1   \n",
       "1                                f                              1   \n",
       "2                                f                              1   \n",
       "3                                f                              1   \n",
       "4                                f                              1   \n",
       "\n",
       "   reviews_per_month  \n",
       "0                     \n",
       "1                  2  \n",
       "2               0.77  \n",
       "3                     \n",
       "4                     \n",
       "\n",
       "[5 rows x 96 columns]"
      ]
     },
     "execution_count": 5,
     "metadata": {},
     "output_type": "execute_result"
    }
   ],
   "source": [
    "df_listing_detail.head(5)"
   ]
  },
  {
   "cell_type": "code",
   "execution_count": 6,
   "metadata": {},
   "outputs": [],
   "source": [
    "df_listing_detail['NLP'] = df_listing_detail[['name', 'summary', 'space', 'description', 'neighborhood_overview']].apply(lambda x: ' '.join(x), axis=1)\n",
    "df_listing_detail['NLP'] = df_listing_detail[['NLP', 'notes', 'space', 'transit', 'access']].apply(lambda x: ' '.join(x), axis=1)\n",
    "df_listing_detail['NLP'] = df_listing_detail[['NLP', 'interaction', 'house_rules', 'transit', 'access']].apply(lambda x: ' '.join(x), axis=1)"
   ]
  },
  {
   "cell_type": "code",
   "execution_count": 7,
   "metadata": {},
   "outputs": [
    {
     "data": {
      "text/plain": [
       "0    Bright, comfortable 1B studio near everything!...\n",
       "1    Quiet house on City Island 1 private bedroom a...\n",
       "2    Large 1 BDRM in Great location This ground flo...\n",
       "3    Stay aboard  a sailboat stay aboard a sailboat...\n",
       "4    Quaint City Island Community.  Quiet island  b...\n",
       "5    Quaint City Island Home Located in an old sea-...\n",
       "6    Sweet Getaway Getaway for two (2) or up to sev...\n",
       "7    City Island Sanctuary BR & Private Bath w Park...\n",
       "8    Relax and unwind on the water. On City Island ...\n",
       "9    WATERFRONT STUDIO APARTMENT My place is close ...\n",
       "Name: NLP, dtype: object"
      ]
     },
     "execution_count": 7,
     "metadata": {},
     "output_type": "execute_result"
    }
   ],
   "source": [
    "df_listing_detail['NLP'].head(10)"
   ]
  },
  {
   "cell_type": "code",
   "execution_count": 8,
   "metadata": {},
   "outputs": [],
   "source": [
    "vectorizer = TfidfVectorizer(sublinear_tf=True, min_df=6, stop_words='english')\n",
    "select_features = SelectPercentile(chi2, percentile=9.5)\n",
    "\n"
   ]
  },
  {
   "cell_type": "code",
   "execution_count": 9,
   "metadata": {},
   "outputs": [
    {
     "name": "stdout",
     "output_type": "stream",
     "text": [
      "Empty DataFrame\n",
      "Columns: []\n",
      "Index: []\n"
     ]
    }
   ],
   "source": [
    "# Make sure there is no missing values in NLP column\n",
    "null_columns=df_listing_detail.columns[df_listing_detail.isnull().any()]\n",
    "df_listing_detail[null_columns].isnull().sum()\n",
    "print(df_listing_detail[df_listing_detail[\"NLP\"].isnull()][null_columns])"
   ]
  },
  {
   "cell_type": "code",
   "execution_count": 10,
   "metadata": {},
   "outputs": [
    {
     "name": "stdout",
     "output_type": "stream",
     "text": [
      "44317\n"
     ]
    }
   ],
   "source": [
    "all_words = []\n",
    "print(df_listing_detail[\"NLP\"].shape[0])"
   ]
  },
  {
   "cell_type": "code",
   "execution_count": 11,
   "metadata": {},
   "outputs": [],
   "source": [
    "words = stopwords.words(\"english\")\n",
    "stemmer = SnowballStemmer('english')"
   ]
  },
  {
   "cell_type": "code",
   "execution_count": 12,
   "metadata": {},
   "outputs": [],
   "source": [
    "for i in range(0, df_listing_detail[\"NLP\"].shape[0]):\n",
    "    \n",
    "    new_text = re.sub('[^a-zA-Z]', ' ', df_listing_detail[\"NLP\"][i])\n",
    "    new_text = re.sub(r\"<br />\", \" \", new_text)\n",
    "    new_text = re.sub(r\"   \", \" \", new_text) \n",
    "    new_text = re.sub(r\"  \", \" \", new_text)\n",
    "    new_text = new_text.lower().split()\n",
    "    #new_text = new_text.split()\n",
    "    new_text = [stemmer.stem(word) for word in new_text if not word in stopwords_set]\n",
    "    new_text = ' '.join(new_text)  \n",
    "    all_words.append(new_text)"
   ]
  },
  {
   "cell_type": "code",
   "execution_count": 13,
   "metadata": {},
   "outputs": [
    {
     "data": {
      "text/plain": [
       "'bright comfort b studio near everyth look fill specif date june june cozi bedroom bathroom studio apart top floor prewar build conveni locat block choic n w station minut ride manhattan cafe restaur wine shop groceri cvs nearbi laundromat around corner beauti riversid astoria park minut walk build well illumin space includ comfort queen bed ac bedroom tv connect web stream common area fulli function kitchen housewar storag space avail look fill specif date june june cozi bedroom bathroom studio apart top floor prewar build conveni locat block choic n w station minut ride manhattan cafe restaur wine shop groceri cvs nearbi laundromat around corner beauti riversid astoria park minut walk build well illumin space includ comfort queen bed ac bedroom tv connect web stream common area fulli function kitchen housewar storag space avail import space suitabl children two window open clear fire escap view pretti state new york law requir guest sit fire escap guest must confirm agre safeti precaut prior confirm apart top floor stori pre war bu michelin rate restaur area trendi bar cafe key food supermarket well farmer market groceri cvs area histor greek also wonder greek restaur summertim astoria park beauti place picnic overlook river view manhattan side well illumin space includ comfort queen bed ac bedroom tv connect web stream common area fulli function kitchen housewar storag space avail astoria safe quaint neighborhood apart locat block train line get midtown manhattan minut perfect respit crowd still closer central park major museum popular attract mani tri borough locat import space suitabl children two window open clear fire escap view pretti state new york law requir guest sit fire escap guest must confirm agre safeti precaut prior confirm apart top floor stori pre war build stair garbag key provid dispos first level arrang made advanc regard key pick deliveri astoria safe quaint neighborhood apart locat block train line get midtown manhattan minut perfect respit crowd still closer central park major museum popular attract mani tri borough locat import space suitabl children two window open clear fire escap view pretti state new york law requir guest sit fire escap guest must confirm agre safeti precaut prior confirm apart top floor stori pre war build stair garbag key provid dispos first level'"
      ]
     },
     "execution_count": 13,
     "metadata": {},
     "output_type": "execute_result"
    }
   ],
   "source": [
    "all_words[0]"
   ]
  },
  {
   "cell_type": "code",
   "execution_count": 14,
   "metadata": {},
   "outputs": [],
   "source": [
    "X_NLP = vectorizer.fit_transform(all_words).toarray()"
   ]
  },
  {
   "cell_type": "code",
   "execution_count": 15,
   "metadata": {},
   "outputs": [],
   "source": [
    "select_features = SelectPercentile(chi2, percentile=30)"
   ]
  },
  {
   "cell_type": "code",
   "execution_count": 16,
   "metadata": {},
   "outputs": [],
   "source": [
    "from sklearn.preprocessing import Imputer"
   ]
  },
  {
   "cell_type": "code",
   "execution_count": 17,
   "metadata": {},
   "outputs": [],
   "source": [
    "\n",
    "\n",
    "df_listing_detail['review_scores_rating'] = pd.to_numeric(df_listing_detail['review_scores_rating'],errors='coerce')\n",
    "\n",
    "imp = Imputer(missing_values='NaN', strategy='mean', axis=0)\n",
    "imp.fit(df_listing_detail[['review_scores_rating']])\n",
    "df_listing_detail['review_scores_rating']=imp.transform(df_listing_detail[['review_scores_rating']]).ravel()\n",
    "'''\n",
    "imputed_DF = pd.DataFrame(imp.fit_transform(df.loc[:, 14]))\n",
    "imputed_DF.columns = df.columns\n",
    "imputed_DF.index = df.index\n",
    "'''\n",
    "y_price = df_listing_detail['review_scores_rating'].astype(np.int64)"
   ]
  },
  {
   "cell_type": "code",
   "execution_count": 18,
   "metadata": {},
   "outputs": [
    {
     "name": "stderr",
     "output_type": "stream",
     "text": [
      "/anaconda3/lib/python3.6/site-packages/sklearn/cross_validation.py:41: DeprecationWarning: This module was deprecated in version 0.18 in favor of the model_selection module into which all the refactored classes and functions are moved. Also note that the interface of the new CV iterators are different from that of this module. This module will be removed in 0.20.\n",
      "  \"This module will be removed in 0.20.\", DeprecationWarning)\n"
     ]
    },
    {
     "name": "stdout",
     "output_type": "stream",
     "text": [
      "0.19873669945308634\n"
     ]
    },
    {
     "name": "stderr",
     "output_type": "stream",
     "text": [
      "/anaconda3/lib/python3.6/site-packages/sklearn/metrics/classification.py:1135: UndefinedMetricWarning: F-score is ill-defined and being set to 0.0 in labels with no predicted samples.\n",
      "  'precision', 'predicted', average, warn_for)\n"
     ]
    }
   ],
   "source": [
    "from sklearn.cross_validation import train_test_split\n",
    "X_train, X_test, y_train, y_test = train_test_split(X_NLP, y_price, test_size = 0.25, random_state = 0)\n",
    "\n",
    "X_train = select_features.fit_transform(X_train, y_train)\n",
    "X_test = select_features.transform(X_test)\n",
    "#selected_feature_names = [feature_names[i] for i in ch2.get_support(indices=True)]\n",
    "\n",
    "clf = LinearSVC(C=1.0, penalty='l1', max_iter=3000,  dual=False)\n",
    "#clf = RandomForestClassifier()\n",
    "clf.fit(X_train, y_train)\n",
    "y_pred = clf.predict(X_test)\n",
    "\n",
    "\n",
    "\n",
    "from sklearn.metrics import f1_score\n",
    "print(f1_score(y_test, y_pred, average='weighted'))"
   ]
  },
  {
   "cell_type": "code",
   "execution_count": 19,
   "metadata": {},
   "outputs": [],
   "source": [
    "from sklearn.metrics import mean_squared_error\n",
    "from sklearn.metrics import mean_squared_error\n",
    "from math import sqrt\n",
    "\n",
    "rms = sqrt(mean_squared_error(y_test, y_pred))"
   ]
  },
  {
   "cell_type": "code",
   "execution_count": 20,
   "metadata": {},
   "outputs": [
    {
     "name": "stdout",
     "output_type": "stream",
     "text": [
      "7.912968608693331\n"
     ]
    }
   ],
   "source": [
    "print(rms)"
   ]
  },
  {
   "cell_type": "code",
   "execution_count": 21,
   "metadata": {},
   "outputs": [
    {
     "name": "stdout",
     "output_type": "stream",
     "text": [
      "2.812999930446734\n"
     ]
    }
   ],
   "source": [
    "print(rms ** (1/ 2.0))"
   ]
  },
  {
   "cell_type": "code",
   "execution_count": null,
   "metadata": {},
   "outputs": [],
   "source": []
  },
  {
   "cell_type": "code",
   "execution_count": null,
   "metadata": {},
   "outputs": [],
   "source": []
  }
 ],
 "metadata": {
  "kernelspec": {
   "display_name": "Python 3",
   "language": "python",
   "name": "python3"
  },
  "language_info": {
   "codemirror_mode": {
    "name": "ipython",
    "version": 3
   },
   "file_extension": ".py",
   "mimetype": "text/x-python",
   "name": "python",
   "nbconvert_exporter": "python",
   "pygments_lexer": "ipython3",
   "version": "3.6.5"
  }
 },
 "nbformat": 4,
 "nbformat_minor": 2
}

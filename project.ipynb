{
 "cells": [
  {
   "cell_type": "code",
   "execution_count": 1,
   "metadata": {},
   "outputs": [
    {
     "name": "stdout",
     "output_type": "stream",
     "text": [
      "[nltk_data] Downloading package punkt to\n",
      "[nltk_data]     /Users/brucedecker/nltk_data...\n",
      "[nltk_data]   Package punkt is already up-to-date!\n",
      "[nltk_data] Downloading package stopwords to\n",
      "[nltk_data]     /Users/brucedecker/nltk_data...\n",
      "[nltk_data]   Package stopwords is already up-to-date!\n"
     ]
    }
   ],
   "source": [
    "import pandas as pd\n",
    "import numpy as np\n",
    "import sklearn\n",
    "import matplotlib.pyplot as plt\n",
    "import re \n",
    "import nltk\n",
    "from nltk.corpus import stopwords\n",
    "from nltk.stem import SnowballStemmer\n",
    "nltk.download('punkt')\n",
    "nltk.download('stopwords')\n",
    "words = stopwords.words(\"english\")\n",
    "stemmer = SnowballStemmer('english')\n",
    "from sklearn.feature_extraction.text import TfidfVectorizer\n",
    "from sklearn.feature_selection import SelectKBest, chi2, SelectPercentile\n",
    "from sklearn.model_selection import train_test_split\n",
    "from sklearn.preprocessing import Imputer\n",
    "from sklearn.svm import LinearSVC\n",
    "\n"
   ]
  },
  {
   "cell_type": "code",
   "execution_count": 2,
   "metadata": {},
   "outputs": [],
   "source": [
    "stopwords_set = set(stopwords.words(\"english\"))\n",
    "df_listing_detail = pd.read_csv('airbnb-open-data-in-nyc/listings_detail.csv', keep_default_na=False, skip_blank_lines=False, engine='python')\n",
    "df_listing_detail = df_listing_detail.replace(np.nan, '', regex=True)\n",
    "\n",
    "\n"
   ]
  },
  {
   "cell_type": "code",
   "execution_count": 3,
   "metadata": {},
   "outputs": [
    {
     "data": {
      "text/html": [
       "<div>\n",
       "<style scoped>\n",
       "    .dataframe tbody tr th:only-of-type {\n",
       "        vertical-align: middle;\n",
       "    }\n",
       "\n",
       "    .dataframe tbody tr th {\n",
       "        vertical-align: top;\n",
       "    }\n",
       "\n",
       "    .dataframe thead th {\n",
       "        text-align: right;\n",
       "    }\n",
       "</style>\n",
       "<table border=\"1\" class=\"dataframe\">\n",
       "  <thead>\n",
       "    <tr style=\"text-align: right;\">\n",
       "      <th></th>\n",
       "      <th>id</th>\n",
       "      <th>listing_url</th>\n",
       "      <th>scrape_id</th>\n",
       "      <th>last_scraped</th>\n",
       "      <th>name</th>\n",
       "      <th>summary</th>\n",
       "      <th>space</th>\n",
       "      <th>description</th>\n",
       "      <th>experiences_offered</th>\n",
       "      <th>neighborhood_overview</th>\n",
       "      <th>...</th>\n",
       "      <th>requires_license</th>\n",
       "      <th>license</th>\n",
       "      <th>jurisdiction_names</th>\n",
       "      <th>instant_bookable</th>\n",
       "      <th>is_business_travel_ready</th>\n",
       "      <th>cancellation_policy</th>\n",
       "      <th>require_guest_profile_picture</th>\n",
       "      <th>require_guest_phone_verification</th>\n",
       "      <th>calculated_host_listings_count</th>\n",
       "      <th>reviews_per_month</th>\n",
       "    </tr>\n",
       "  </thead>\n",
       "  <tbody>\n",
       "    <tr>\n",
       "      <th>0</th>\n",
       "      <td>18461891</td>\n",
       "      <td>https://www.airbnb.com/rooms/18461891</td>\n",
       "      <td>20171002002103</td>\n",
       "      <td>2017-10-03</td>\n",
       "      <td>Bright, comfortable 1B studio near everything!</td>\n",
       "      <td>*Looking to fill these specific dates: June 24...</td>\n",
       "      <td>Very well illuminated space includes comfortab...</td>\n",
       "      <td>*Looking to fill these specific dates: June 24...</td>\n",
       "      <td>none</td>\n",
       "      <td>There are Michelin-rated restaurants in the ar...</td>\n",
       "      <td>...</td>\n",
       "      <td>f</td>\n",
       "      <td></td>\n",
       "      <td></td>\n",
       "      <td>f</td>\n",
       "      <td>f</td>\n",
       "      <td>strict</td>\n",
       "      <td>f</td>\n",
       "      <td>f</td>\n",
       "      <td>1</td>\n",
       "      <td></td>\n",
       "    </tr>\n",
       "    <tr>\n",
       "      <th>1</th>\n",
       "      <td>20702398</td>\n",
       "      <td>https://www.airbnb.com/rooms/20702398</td>\n",
       "      <td>20171002002103</td>\n",
       "      <td>2017-10-03</td>\n",
       "      <td>Quiet house on City Island</td>\n",
       "      <td>1 private bedroom and bathroom available for o...</td>\n",
       "      <td></td>\n",
       "      <td>1 private bedroom and bathroom available for o...</td>\n",
       "      <td>none</td>\n",
       "      <td>This neighborhood is dope! Lot's of seafood re...</td>\n",
       "      <td>...</td>\n",
       "      <td>f</td>\n",
       "      <td></td>\n",
       "      <td></td>\n",
       "      <td>f</td>\n",
       "      <td>f</td>\n",
       "      <td>moderate</td>\n",
       "      <td>f</td>\n",
       "      <td>f</td>\n",
       "      <td>1</td>\n",
       "      <td>2</td>\n",
       "    </tr>\n",
       "    <tr>\n",
       "      <th>2</th>\n",
       "      <td>6627449</td>\n",
       "      <td>https://www.airbnb.com/rooms/6627449</td>\n",
       "      <td>20171002002103</td>\n",
       "      <td>2017-10-03</td>\n",
       "      <td>Large 1 BDRM in Great location</td>\n",
       "      <td>This ground floor apartment is light and airy ...</td>\n",
       "      <td>We are close to fishing, boating, biking, hors...</td>\n",
       "      <td>This ground floor apartment is light and airy ...</td>\n",
       "      <td>none</td>\n",
       "      <td>City Island is a unique and a hidden gem of Ne...</td>\n",
       "      <td>...</td>\n",
       "      <td>f</td>\n",
       "      <td></td>\n",
       "      <td></td>\n",
       "      <td>f</td>\n",
       "      <td>f</td>\n",
       "      <td>strict</td>\n",
       "      <td>f</td>\n",
       "      <td>f</td>\n",
       "      <td>1</td>\n",
       "      <td>0.77</td>\n",
       "    </tr>\n",
       "    <tr>\n",
       "      <th>3</th>\n",
       "      <td>19949243</td>\n",
       "      <td>https://www.airbnb.com/rooms/19949243</td>\n",
       "      <td>20171002002103</td>\n",
       "      <td>2017-10-03</td>\n",
       "      <td>Stay aboard  a sailboat</td>\n",
       "      <td>stay aboard a sailboat</td>\n",
       "      <td></td>\n",
       "      <td>stay aboard a sailboat</td>\n",
       "      <td>none</td>\n",
       "      <td></td>\n",
       "      <td>...</td>\n",
       "      <td>f</td>\n",
       "      <td></td>\n",
       "      <td></td>\n",
       "      <td>t</td>\n",
       "      <td>f</td>\n",
       "      <td>strict</td>\n",
       "      <td>f</td>\n",
       "      <td>f</td>\n",
       "      <td>1</td>\n",
       "      <td></td>\n",
       "    </tr>\n",
       "    <tr>\n",
       "      <th>4</th>\n",
       "      <td>1886820</td>\n",
       "      <td>https://www.airbnb.com/rooms/1886820</td>\n",
       "      <td>20171002002103</td>\n",
       "      <td>2017-10-03</td>\n",
       "      <td>Quaint City Island Community.</td>\n",
       "      <td>Quiet island  boating town on Long Island Soun...</td>\n",
       "      <td>Master bed with queen bed, full bath and offi...</td>\n",
       "      <td>Quiet island  boating town on Long Island Soun...</td>\n",
       "      <td>none</td>\n",
       "      <td>Small New England type town in the middle of ...</td>\n",
       "      <td>...</td>\n",
       "      <td>f</td>\n",
       "      <td></td>\n",
       "      <td></td>\n",
       "      <td>f</td>\n",
       "      <td>f</td>\n",
       "      <td>strict</td>\n",
       "      <td>f</td>\n",
       "      <td>f</td>\n",
       "      <td>1</td>\n",
       "      <td></td>\n",
       "    </tr>\n",
       "  </tbody>\n",
       "</table>\n",
       "<p>5 rows × 96 columns</p>\n",
       "</div>"
      ],
      "text/plain": [
       "         id                            listing_url       scrape_id  \\\n",
       "0  18461891  https://www.airbnb.com/rooms/18461891  20171002002103   \n",
       "1  20702398  https://www.airbnb.com/rooms/20702398  20171002002103   \n",
       "2   6627449   https://www.airbnb.com/rooms/6627449  20171002002103   \n",
       "3  19949243  https://www.airbnb.com/rooms/19949243  20171002002103   \n",
       "4   1886820   https://www.airbnb.com/rooms/1886820  20171002002103   \n",
       "\n",
       "  last_scraped                                            name  \\\n",
       "0   2017-10-03  Bright, comfortable 1B studio near everything!   \n",
       "1   2017-10-03                      Quiet house on City Island   \n",
       "2   2017-10-03                  Large 1 BDRM in Great location   \n",
       "3   2017-10-03                         Stay aboard  a sailboat   \n",
       "4   2017-10-03                  Quaint City Island Community.    \n",
       "\n",
       "                                             summary  \\\n",
       "0  *Looking to fill these specific dates: June 24...   \n",
       "1  1 private bedroom and bathroom available for o...   \n",
       "2  This ground floor apartment is light and airy ...   \n",
       "3                             stay aboard a sailboat   \n",
       "4  Quiet island  boating town on Long Island Soun...   \n",
       "\n",
       "                                               space  \\\n",
       "0  Very well illuminated space includes comfortab...   \n",
       "1                                                      \n",
       "2  We are close to fishing, boating, biking, hors...   \n",
       "3                                                      \n",
       "4   Master bed with queen bed, full bath and offi...   \n",
       "\n",
       "                                         description experiences_offered  \\\n",
       "0  *Looking to fill these specific dates: June 24...                none   \n",
       "1  1 private bedroom and bathroom available for o...                none   \n",
       "2  This ground floor apartment is light and airy ...                none   \n",
       "3                             stay aboard a sailboat                none   \n",
       "4  Quiet island  boating town on Long Island Soun...                none   \n",
       "\n",
       "                               neighborhood_overview        ...          \\\n",
       "0  There are Michelin-rated restaurants in the ar...        ...           \n",
       "1  This neighborhood is dope! Lot's of seafood re...        ...           \n",
       "2  City Island is a unique and a hidden gem of Ne...        ...           \n",
       "3                                                           ...           \n",
       "4   Small New England type town in the middle of ...        ...           \n",
       "\n",
       "  requires_license license jurisdiction_names instant_bookable  \\\n",
       "0                f                                           f   \n",
       "1                f                                           f   \n",
       "2                f                                           f   \n",
       "3                f                                           t   \n",
       "4                f                                           f   \n",
       "\n",
       "  is_business_travel_ready cancellation_policy require_guest_profile_picture  \\\n",
       "0                        f              strict                             f   \n",
       "1                        f            moderate                             f   \n",
       "2                        f              strict                             f   \n",
       "3                        f              strict                             f   \n",
       "4                        f              strict                             f   \n",
       "\n",
       "  require_guest_phone_verification calculated_host_listings_count  \\\n",
       "0                                f                              1   \n",
       "1                                f                              1   \n",
       "2                                f                              1   \n",
       "3                                f                              1   \n",
       "4                                f                              1   \n",
       "\n",
       "   reviews_per_month  \n",
       "0                     \n",
       "1                  2  \n",
       "2               0.77  \n",
       "3                     \n",
       "4                     \n",
       "\n",
       "[5 rows x 96 columns]"
      ]
     },
     "execution_count": 3,
     "metadata": {},
     "output_type": "execute_result"
    }
   ],
   "source": [
    "df_listing_detail.head(5)"
   ]
  },
  {
   "cell_type": "code",
   "execution_count": 4,
   "metadata": {},
   "outputs": [],
   "source": [
    "df_listing_detail['NLP'] = df_listing_detail[['name', 'summary', 'space', 'description', 'neighborhood_overview']].apply(lambda x: ' '.join(x), axis=1)\n",
    "df_listing_detail['NLP'] = df_listing_detail[['NLP', 'notes', 'space', 'transit', 'access']].apply(lambda x: ' '.join(x), axis=1)\n",
    "df_listing_detail['NLP'] = df_listing_detail[['NLP', 'interaction', 'house_rules', 'transit', 'access']].apply(lambda x: ' '.join(x), axis=1)"
   ]
  },
  {
   "cell_type": "code",
   "execution_count": 5,
   "metadata": {},
   "outputs": [
    {
     "data": {
      "text/plain": [
       "0    Bright, comfortable 1B studio near everything!...\n",
       "1    Quiet house on City Island 1 private bedroom a...\n",
       "2    Large 1 BDRM in Great location This ground flo...\n",
       "3    Stay aboard  a sailboat stay aboard a sailboat...\n",
       "4    Quaint City Island Community.  Quiet island  b...\n",
       "5    Quaint City Island Home Located in an old sea-...\n",
       "6    Sweet Getaway Getaway for two (2) or up to sev...\n",
       "7    City Island Sanctuary BR & Private Bath w Park...\n",
       "8    Relax and unwind on the water. On City Island ...\n",
       "9    WATERFRONT STUDIO APARTMENT My place is close ...\n",
       "Name: NLP, dtype: object"
      ]
     },
     "execution_count": 5,
     "metadata": {},
     "output_type": "execute_result"
    }
   ],
   "source": [
    "df_listing_detail['NLP'].head(10)"
   ]
  },
  {
   "cell_type": "code",
   "execution_count": 6,
   "metadata": {},
   "outputs": [],
   "source": [
    "vectorizer = TfidfVectorizer(sublinear_tf=True, min_df=6, stop_words='english')\n",
    "select_features = SelectPercentile(chi2, percentile=9.5)\n",
    "\n"
   ]
  },
  {
   "cell_type": "code",
   "execution_count": 7,
   "metadata": {},
   "outputs": [
    {
     "name": "stdout",
     "output_type": "stream",
     "text": [
      "Empty DataFrame\n",
      "Columns: []\n",
      "Index: []\n"
     ]
    }
   ],
   "source": [
    "# Make sure there is no missing values in NLP column\n",
    "null_columns=df_listing_detail.columns[df_listing_detail.isnull().any()]\n",
    "df_listing_detail[null_columns].isnull().sum()\n",
    "print(df_listing_detail[df_listing_detail[\"NLP\"].isnull()][null_columns])"
   ]
  },
  {
   "cell_type": "code",
   "execution_count": 8,
   "metadata": {},
   "outputs": [
    {
     "name": "stdout",
     "output_type": "stream",
     "text": [
      "44317\n"
     ]
    }
   ],
   "source": [
    "all_words = []\n",
    "print(df_listing_detail[\"NLP\"].shape[0])"
   ]
  },
  {
   "cell_type": "code",
   "execution_count": 9,
   "metadata": {},
   "outputs": [],
   "source": [
    "words = stopwords.words(\"english\")\n",
    "stemmer = SnowballStemmer('english')"
   ]
  },
  {
   "cell_type": "code",
   "execution_count": 10,
   "metadata": {},
   "outputs": [],
   "source": [
    "for i in range(0, df_listing_detail[\"NLP\"].shape[0]):\n",
    "    \n",
    "    new_text = re.sub('[^a-zA-Z]', ' ', df_listing_detail[\"NLP\"][i])\n",
    "    new_text = re.sub(r\"<br />\", \" \", new_text)\n",
    "    new_text = re.sub(r\"   \", \" \", new_text) \n",
    "    new_text = re.sub(r\"  \", \" \", new_text)\n",
    "    new_text = new_text.lower().split()\n",
    "    #new_text = new_text.split()\n",
    "    new_text = [stemmer.stem(word) for word in new_text if not word in stopwords_set]\n",
    "    new_text = ' '.join(new_text)  \n",
    "    all_words.append(new_text)"
   ]
  },
  {
   "cell_type": "code",
   "execution_count": 11,
   "metadata": {},
   "outputs": [
    {
     "data": {
      "text/plain": [
       "'bright comfort b studio near everyth look fill specif date june june cozi bedroom bathroom studio apart top floor prewar build conveni locat block choic n w station minut ride manhattan cafe restaur wine shop groceri cvs nearbi laundromat around corner beauti riversid astoria park minut walk build well illumin space includ comfort queen bed ac bedroom tv connect web stream common area fulli function kitchen housewar storag space avail look fill specif date june june cozi bedroom bathroom studio apart top floor prewar build conveni locat block choic n w station minut ride manhattan cafe restaur wine shop groceri cvs nearbi laundromat around corner beauti riversid astoria park minut walk build well illumin space includ comfort queen bed ac bedroom tv connect web stream common area fulli function kitchen housewar storag space avail import space suitabl children two window open clear fire escap view pretti state new york law requir guest sit fire escap guest must confirm agre safeti precaut prior confirm apart top floor stori pre war bu michelin rate restaur area trendi bar cafe key food supermarket well farmer market groceri cvs area histor greek also wonder greek restaur summertim astoria park beauti place picnic overlook river view manhattan side well illumin space includ comfort queen bed ac bedroom tv connect web stream common area fulli function kitchen housewar storag space avail astoria safe quaint neighborhood apart locat block train line get midtown manhattan minut perfect respit crowd still closer central park major museum popular attract mani tri borough locat import space suitabl children two window open clear fire escap view pretti state new york law requir guest sit fire escap guest must confirm agre safeti precaut prior confirm apart top floor stori pre war build stair garbag key provid dispos first level arrang made advanc regard key pick deliveri astoria safe quaint neighborhood apart locat block train line get midtown manhattan minut perfect respit crowd still closer central park major museum popular attract mani tri borough locat import space suitabl children two window open clear fire escap view pretti state new york law requir guest sit fire escap guest must confirm agre safeti precaut prior confirm apart top floor stori pre war build stair garbag key provid dispos first level'"
      ]
     },
     "execution_count": 11,
     "metadata": {},
     "output_type": "execute_result"
    }
   ],
   "source": [
    "all_words[0]"
   ]
  },
  {
   "cell_type": "code",
   "execution_count": 12,
   "metadata": {},
   "outputs": [],
   "source": [
    "X_NLP = vectorizer.fit_transform(all_words).toarray()"
   ]
  },
  {
   "cell_type": "code",
   "execution_count": 13,
   "metadata": {},
   "outputs": [],
   "source": [
    "select_features = SelectPercentile(chi2, percentile=30)"
   ]
  },
  {
   "cell_type": "code",
   "execution_count": 14,
   "metadata": {},
   "outputs": [],
   "source": [
    "from sklearn.preprocessing import Imputer"
   ]
  },
  {
   "cell_type": "code",
   "execution_count": 15,
   "metadata": {},
   "outputs": [],
   "source": [
    "\n",
    "\n",
    "df_listing_detail['review_scores_rating'] = pd.to_numeric(df_listing_detail['review_scores_rating'],errors='coerce')\n",
    "\n",
    "imp = Imputer(missing_values='NaN', strategy='mean', axis=0)\n",
    "imp.fit(df_listing_detail[['review_scores_rating']])\n",
    "df_listing_detail['review_scores_rating']=imp.transform(df_listing_detail[['review_scores_rating']]).ravel()\n",
    "'''\n",
    "imputed_DF = pd.DataFrame(imp.fit_transform(df.loc[:, 14]))\n",
    "imputed_DF.columns = df.columns\n",
    "imputed_DF.index = df.index\n",
    "'''\n",
    "y_price = df_listing_detail['review_scores_rating'].astype(np.int64)"
   ]
  },
  {
   "cell_type": "code",
   "execution_count": 16,
   "metadata": {},
   "outputs": [
    {
     "name": "stderr",
     "output_type": "stream",
     "text": [
      "/anaconda3/lib/python3.6/site-packages/sklearn/cross_validation.py:41: DeprecationWarning: This module was deprecated in version 0.18 in favor of the model_selection module into which all the refactored classes and functions are moved. Also note that the interface of the new CV iterators are different from that of this module. This module will be removed in 0.20.\n",
      "  \"This module will be removed in 0.20.\", DeprecationWarning)\n"
     ]
    }
   ],
   "source": [
    "from sklearn.cross_validation import train_test_split\n",
    "X_train, X_test, y_train, y_test = train_test_split(X_NLP, y_price, test_size = 0.25, random_state = 0)\n",
    "\n",
    "X_train = select_features.fit_transform(X_train, y_train)\n",
    "X_test = select_features.transform(X_test)\n",
    "#selected_feature_names = [feature_names[i] for i in ch2.get_support(indices=True)]\n",
    "\n",
    "clf = LinearSVC(C=1.0, penalty='l1', max_iter=3000,  dual=False)\n",
    "#clf = RandomForestClassifier()\n",
    "clf.fit(X_train, y_train)\n",
    "y_pred = clf.predict(X_test)\n",
    "\n",
    "\n"
   ]
  },
  {
   "cell_type": "code",
   "execution_count": 17,
   "metadata": {},
   "outputs": [],
   "source": [
    "from sklearn.metrics import mean_squared_error\n",
    "from sklearn.metrics import mean_squared_error\n",
    "from math import sqrt\n",
    "\n",
    "rms = sqrt(mean_squared_error(y_test, y_pred))"
   ]
  },
  {
   "cell_type": "code",
   "execution_count": 18,
   "metadata": {},
   "outputs": [
    {
     "name": "stdout",
     "output_type": "stream",
     "text": [
      "7.912968608693331\n"
     ]
    }
   ],
   "source": [
    "print(rms)"
   ]
  },
  {
   "cell_type": "code",
   "execution_count": 19,
   "metadata": {},
   "outputs": [
    {
     "name": "stdout",
     "output_type": "stream",
     "text": [
      "2.812999930446734\n"
     ]
    }
   ],
   "source": [
    "print(rms ** (1/ 2.0))"
   ]
  },
  {
   "cell_type": "code",
   "execution_count": 20,
   "metadata": {},
   "outputs": [],
   "source": [
    "y_test = y_test.tolist()"
   ]
  },
  {
   "cell_type": "code",
   "execution_count": 21,
   "metadata": {},
   "outputs": [
    {
     "name": "stdout",
     "output_type": "stream",
     "text": [
      "Current size: [6.0, 4.0]\n"
     ]
    },
    {
     "data": {
      "text/plain": [
       "<matplotlib.legend.Legend at 0x1a127e64e0>"
      ]
     },
     "execution_count": 21,
     "metadata": {},
     "output_type": "execute_result"
    },
    {
     "data": {
      "image/png": "[encoded data removed]",
      "text/plain": [
       "<Figure size 1080x864 with 1 Axes>"
      ]
     },
     "metadata": {},
     "output_type": "display_data"
    }
   ],
   "source": [
    "score_plot = plt.rcParams[\"figure.figsize\"]\n",
    " \n",
    "print(\"Current size:\", score_plot)\n",
    " \n",
    "score_plot[0] = 15\n",
    "score_plot[1] = 12\n",
    "plt.rcParams[\"figure.figsize\"] = score_plot\n",
    "\n",
    "plt.plot(y_pred[:150], '-or', label='Prediction')\n",
    "plt.plot(y_test[:150], '-ob', label='Actual Value')\n",
    "plt.ylabel('Score')\n",
    "plt.xlabel('Items') \n",
    "plt.legend()\n",
    "\n"
   ]
  },
  {
   "cell_type": "code",
   "execution_count": 22,
   "metadata": {},
   "outputs": [],
   "source": [
    "from wordcloud import WordCloud, STOPWORDS, ImageColorGenerator"
   ]
  },
  {
   "cell_type": "code",
   "execution_count": 23,
   "metadata": {},
   "outputs": [],
   "source": [
    "data =  df_listing_detail[\"city\"]\n",
    "def wordcloud_draw(data, color = 'black'):\n",
    "    words = ' '.join(data)\n",
    "    cleaned_word = \" \".join([word for word in words.split()\n",
    "                            if 'http' not in word\n",
    "                                and not word.startswith('@')\n",
    "                                and not word.startswith('#')\n",
    "                                and word != 'RT'\n",
    "                            ])\n",
    "    wordcloud = WordCloud(stopwords=STOPWORDS,\n",
    "                      background_color=color,\n",
    "                      width=3000,\n",
    "                      height=2500\n",
    "                     ).generate(cleaned_word)\n",
    "    plt.figure(1,figsize=(13, 13))\n",
    "    plt.imshow(wordcloud)\n",
    "    plt.axis('off')\n",
    "    plt.show()\n"
   ]
  },
  {
   "cell_type": "code",
   "execution_count": 24,
   "metadata": {},
   "outputs": [
    {
     "data": {
      "image/png": "[encoded data removed]",
      "text/plain": [
       "<Figure size 936x936 with 1 Axes>"
      ]
     },
     "metadata": {},
     "output_type": "display_data"
    }
   ],
   "source": [
    "description =  df_listing_detail[\"description\"]\n",
    "wordcloud_draw(description,'black')"
   ]
  },
  {
   "cell_type": "code",
   "execution_count": 115,
   "metadata": {},
   "outputs": [],
   "source": [
    "from gensim import corpora, models, similarities\n",
    "from nltk.corpus import stopwords \n",
    "stop_words = set(stopwords.words('english')) \n"
   ]
  },
  {
   "cell_type": "code",
   "execution_count": 116,
   "metadata": {},
   "outputs": [],
   "source": [
    "df = pd.read_csv('airbnb-open-data-in-nyc/listings_detail.csv', keep_default_na=False, skip_blank_lines=False, engine='python')"
   ]
  },
  {
   "cell_type": "code",
   "execution_count": 117,
   "metadata": {},
   "outputs": [
    {
     "data": {
      "text/plain": [
       "0    {TV,\"Wireless Internet\",\"Air conditioning\",Kit...\n",
       "1    {\"Wireless Internet\",\"Air conditioning\",Kitche...\n",
       "2    {TV,Internet,\"Wireless Internet\",\"Air conditio...\n",
       "3                                                   {}\n",
       "4    {TV,\"Cable TV\",Internet,\"Wireless Internet\",\"A...\n",
       "Name: amenities, dtype: object"
      ]
     },
     "execution_count": 117,
     "metadata": {},
     "output_type": "execute_result"
    }
   ],
   "source": [
    "df['amenities'].head()"
   ]
  },
  {
   "cell_type": "code",
   "execution_count": 118,
   "metadata": {},
   "outputs": [
    {
     "data": {
      "text/plain": [
       "0     TV  Wireless Internet   Air conditioning  Kit...\n",
       "1      Wireless Internet   Air conditioning  Kitche...\n",
       "2     TV Internet  Wireless Internet   Air conditio...\n",
       "3                                                     \n",
       "4     TV  Cable TV  Internet  Wireless Internet   A...\n",
       "Name: cleaned_amenities, dtype: object"
      ]
     },
     "execution_count": 118,
     "metadata": {},
     "output_type": "execute_result"
    }
   ],
   "source": [
    "df['cleaned_amenities'] = df['amenities'].apply(lambda x: ' '.join([word for word in x.split() if word not in stopwords_set]))\n",
    "df['cleaned_amenities'] = df['cleaned_amenities'].str.replace(r\"[\\{\\},]\", ' ')\n",
    "df['cleaned_amenities'] = df['cleaned_amenities'].str.replace(r\"[\\\"\\',]\", ' ')\n",
    "\n",
    "\n",
    "\n",
    "df['cleaned_amenities'].head()\n",
    "\n"
   ]
  },
  {
   "cell_type": "code",
   "execution_count": 119,
   "metadata": {},
   "outputs": [
    {
     "data": {
      "text/html": [
       "<div>\n",
       "<style scoped>\n",
       "    .dataframe tbody tr th:only-of-type {\n",
       "        vertical-align: middle;\n",
       "    }\n",
       "\n",
       "    .dataframe tbody tr th {\n",
       "        vertical-align: top;\n",
       "    }\n",
       "\n",
       "    .dataframe thead th {\n",
       "        text-align: right;\n",
       "    }\n",
       "</style>\n",
       "<table border=\"1\" class=\"dataframe\">\n",
       "  <thead>\n",
       "    <tr style=\"text-align: right;\">\n",
       "      <th></th>\n",
       "      <th>listing_url</th>\n",
       "      <th>name</th>\n",
       "      <th>summary</th>\n",
       "      <th>space</th>\n",
       "      <th>neighborhood_overview</th>\n",
       "      <th>notes</th>\n",
       "      <th>transit</th>\n",
       "      <th>access</th>\n",
       "      <th>cleaned_amenities</th>\n",
       "    </tr>\n",
       "  </thead>\n",
       "  <tbody>\n",
       "    <tr>\n",
       "      <th>0</th>\n",
       "      <td>https://www.airbnb.com/rooms/18461891</td>\n",
       "      <td>Bright, comfortable 1B studio near everything!</td>\n",
       "      <td>*Looking to fill these specific dates: June 24...</td>\n",
       "      <td>Very well illuminated space includes comfortab...</td>\n",
       "      <td>There are Michelin-rated restaurants in the ar...</td>\n",
       "      <td></td>\n",
       "      <td>Astoria is a safe and quaint neighborhood, and...</td>\n",
       "      <td>IMPORTANT: This space is not suitable for chil...</td>\n",
       "      <td>TV  Wireless Internet   Air conditioning  Kit...</td>\n",
       "    </tr>\n",
       "    <tr>\n",
       "      <th>1</th>\n",
       "      <td>https://www.airbnb.com/rooms/20702398</td>\n",
       "      <td>Quiet house on City Island</td>\n",
       "      <td>1 private bedroom and bathroom available for o...</td>\n",
       "      <td></td>\n",
       "      <td>This neighborhood is dope! Lot's of seafood re...</td>\n",
       "      <td>No loud parties or hard drugs There is wifi bu...</td>\n",
       "      <td>walk! The island is only 1.5 miles long. Publi...</td>\n",
       "      <td>kitchen, laundry, living room, back yard</td>\n",
       "      <td>Wireless Internet   Air conditioning  Kitche...</td>\n",
       "    </tr>\n",
       "    <tr>\n",
       "      <th>2</th>\n",
       "      <td>https://www.airbnb.com/rooms/6627449</td>\n",
       "      <td>Large 1 BDRM in Great location</td>\n",
       "      <td>This ground floor apartment is light and airy ...</td>\n",
       "      <td>We are close to fishing, boating, biking, hors...</td>\n",
       "      <td>City Island is a unique and a hidden gem of Ne...</td>\n",
       "      <td>There is off street parking in the apartment c...</td>\n",
       "      <td>We are (2) blocks from the BX29 bus which you ...</td>\n",
       "      <td>The entire apartment is available as I am only...</td>\n",
       "      <td>TV Internet  Wireless Internet   Air conditio...</td>\n",
       "    </tr>\n",
       "    <tr>\n",
       "      <th>3</th>\n",
       "      <td>https://www.airbnb.com/rooms/19949243</td>\n",
       "      <td>Stay aboard  a sailboat</td>\n",
       "      <td>stay aboard a sailboat</td>\n",
       "      <td></td>\n",
       "      <td></td>\n",
       "      <td></td>\n",
       "      <td></td>\n",
       "      <td></td>\n",
       "      <td></td>\n",
       "    </tr>\n",
       "    <tr>\n",
       "      <th>4</th>\n",
       "      <td>https://www.airbnb.com/rooms/1886820</td>\n",
       "      <td>Quaint City Island Community.</td>\n",
       "      <td>Quiet island  boating town on Long Island Soun...</td>\n",
       "      <td>Master bed with queen bed, full bath and offi...</td>\n",
       "      <td>Small New England type town in the middle of ...</td>\n",
       "      <td></td>\n",
       "      <td>Parking available in driveway.  Bus stop aroun...</td>\n",
       "      <td>2 story 1800 sq ft house all to yourselves.</td>\n",
       "      <td>TV  Cable TV  Internet  Wireless Internet   A...</td>\n",
       "    </tr>\n",
       "  </tbody>\n",
       "</table>\n",
       "</div>"
      ],
      "text/plain": [
       "                             listing_url  \\\n",
       "0  https://www.airbnb.com/rooms/18461891   \n",
       "1  https://www.airbnb.com/rooms/20702398   \n",
       "2   https://www.airbnb.com/rooms/6627449   \n",
       "3  https://www.airbnb.com/rooms/19949243   \n",
       "4   https://www.airbnb.com/rooms/1886820   \n",
       "\n",
       "                                             name  \\\n",
       "0  Bright, comfortable 1B studio near everything!   \n",
       "1                      Quiet house on City Island   \n",
       "2                  Large 1 BDRM in Great location   \n",
       "3                         Stay aboard  a sailboat   \n",
       "4                  Quaint City Island Community.    \n",
       "\n",
       "                                             summary  \\\n",
       "0  *Looking to fill these specific dates: June 24...   \n",
       "1  1 private bedroom and bathroom available for o...   \n",
       "2  This ground floor apartment is light and airy ...   \n",
       "3                             stay aboard a sailboat   \n",
       "4  Quiet island  boating town on Long Island Soun...   \n",
       "\n",
       "                                               space  \\\n",
       "0  Very well illuminated space includes comfortab...   \n",
       "1                                                      \n",
       "2  We are close to fishing, boating, biking, hors...   \n",
       "3                                                      \n",
       "4   Master bed with queen bed, full bath and offi...   \n",
       "\n",
       "                               neighborhood_overview  \\\n",
       "0  There are Michelin-rated restaurants in the ar...   \n",
       "1  This neighborhood is dope! Lot's of seafood re...   \n",
       "2  City Island is a unique and a hidden gem of Ne...   \n",
       "3                                                      \n",
       "4   Small New England type town in the middle of ...   \n",
       "\n",
       "                                               notes  \\\n",
       "0                                                      \n",
       "1  No loud parties or hard drugs There is wifi bu...   \n",
       "2  There is off street parking in the apartment c...   \n",
       "3                                                      \n",
       "4                                                      \n",
       "\n",
       "                                             transit  \\\n",
       "0  Astoria is a safe and quaint neighborhood, and...   \n",
       "1  walk! The island is only 1.5 miles long. Publi...   \n",
       "2  We are (2) blocks from the BX29 bus which you ...   \n",
       "3                                                      \n",
       "4  Parking available in driveway.  Bus stop aroun...   \n",
       "\n",
       "                                              access  \\\n",
       "0  IMPORTANT: This space is not suitable for chil...   \n",
       "1           kitchen, laundry, living room, back yard   \n",
       "2  The entire apartment is available as I am only...   \n",
       "3                                                      \n",
       "4       2 story 1800 sq ft house all to yourselves.    \n",
       "\n",
       "                                   cleaned_amenities  \n",
       "0   TV  Wireless Internet   Air conditioning  Kit...  \n",
       "1    Wireless Internet   Air conditioning  Kitche...  \n",
       "2   TV Internet  Wireless Internet   Air conditio...  \n",
       "3                                                     \n",
       "4   TV  Cable TV  Internet  Wireless Internet   A...  "
      ]
     },
     "execution_count": 119,
     "metadata": {},
     "output_type": "execute_result"
    }
   ],
   "source": [
    "df_NLP_recommender = df[['listing_url', 'name', 'summary', 'space', 'neighborhood_overview', 'notes', 'transit', 'access', 'cleaned_amenities']]\n",
    "df_NLP_recommender.head()\n"
   ]
  },
  {
   "cell_type": "code",
   "execution_count": 120,
   "metadata": {},
   "outputs": [
    {
     "name": "stderr",
     "output_type": "stream",
     "text": [
      "/anaconda3/lib/python3.6/site-packages/ipykernel_launcher.py:1: SettingWithCopyWarning: \n",
      "A value is trying to be set on a copy of a slice from a DataFrame.\n",
      "Try using .loc[row_indexer,col_indexer] = value instead\n",
      "\n",
      "See the caveats in the documentation: http://pandas.pydata.org/pandas-docs/stable/indexing.html#indexing-view-versus-copy\n",
      "  \"\"\"Entry point for launching an IPython kernel.\n",
      "/anaconda3/lib/python3.6/site-packages/ipykernel_launcher.py:2: SettingWithCopyWarning: \n",
      "A value is trying to be set on a copy of a slice from a DataFrame.\n",
      "Try using .loc[row_indexer,col_indexer] = value instead\n",
      "\n",
      "See the caveats in the documentation: http://pandas.pydata.org/pandas-docs/stable/indexing.html#indexing-view-versus-copy\n",
      "  \n",
      "/anaconda3/lib/python3.6/site-packages/ipykernel_launcher.py:3: SettingWithCopyWarning: \n",
      "A value is trying to be set on a copy of a slice from a DataFrame.\n",
      "Try using .loc[row_indexer,col_indexer] = value instead\n",
      "\n",
      "See the caveats in the documentation: http://pandas.pydata.org/pandas-docs/stable/indexing.html#indexing-view-versus-copy\n",
      "  This is separate from the ipykernel package so we can avoid doing imports until\n",
      "/anaconda3/lib/python3.6/site-packages/ipykernel_launcher.py:4: SettingWithCopyWarning: \n",
      "A value is trying to be set on a copy of a slice from a DataFrame.\n",
      "Try using .loc[row_indexer,col_indexer] = value instead\n",
      "\n",
      "See the caveats in the documentation: http://pandas.pydata.org/pandas-docs/stable/indexing.html#indexing-view-versus-copy\n",
      "  after removing the cwd from sys.path.\n",
      "/anaconda3/lib/python3.6/site-packages/ipykernel_launcher.py:5: SettingWithCopyWarning: \n",
      "A value is trying to be set on a copy of a slice from a DataFrame.\n",
      "Try using .loc[row_indexer,col_indexer] = value instead\n",
      "\n",
      "See the caveats in the documentation: http://pandas.pydata.org/pandas-docs/stable/indexing.html#indexing-view-versus-copy\n",
      "  \"\"\"\n",
      "/anaconda3/lib/python3.6/site-packages/ipykernel_launcher.py:6: SettingWithCopyWarning: \n",
      "A value is trying to be set on a copy of a slice from a DataFrame.\n",
      "Try using .loc[row_indexer,col_indexer] = value instead\n",
      "\n",
      "See the caveats in the documentation: http://pandas.pydata.org/pandas-docs/stable/indexing.html#indexing-view-versus-copy\n",
      "  \n",
      "/anaconda3/lib/python3.6/site-packages/ipykernel_launcher.py:7: SettingWithCopyWarning: \n",
      "A value is trying to be set on a copy of a slice from a DataFrame.\n",
      "Try using .loc[row_indexer,col_indexer] = value instead\n",
      "\n",
      "See the caveats in the documentation: http://pandas.pydata.org/pandas-docs/stable/indexing.html#indexing-view-versus-copy\n",
      "  import sys\n",
      "/anaconda3/lib/python3.6/site-packages/ipykernel_launcher.py:8: SettingWithCopyWarning: \n",
      "A value is trying to be set on a copy of a slice from a DataFrame.\n",
      "Try using .loc[row_indexer,col_indexer] = value instead\n",
      "\n",
      "See the caveats in the documentation: http://pandas.pydata.org/pandas-docs/stable/indexing.html#indexing-view-versus-copy\n",
      "  \n",
      "/anaconda3/lib/python3.6/site-packages/ipykernel_launcher.py:10: SettingWithCopyWarning: \n",
      "A value is trying to be set on a copy of a slice from a DataFrame.\n",
      "Try using .loc[row_indexer,col_indexer] = value instead\n",
      "\n",
      "See the caveats in the documentation: http://pandas.pydata.org/pandas-docs/stable/indexing.html#indexing-view-versus-copy\n",
      "  # Remove the CWD from sys.path while we load stuff.\n",
      "/anaconda3/lib/python3.6/site-packages/ipykernel_launcher.py:11: SettingWithCopyWarning: \n",
      "A value is trying to be set on a copy of a slice from a DataFrame.\n",
      "Try using .loc[row_indexer,col_indexer] = value instead\n",
      "\n",
      "See the caveats in the documentation: http://pandas.pydata.org/pandas-docs/stable/indexing.html#indexing-view-versus-copy\n",
      "  # This is added back by InteractiveShellApp.init_path()\n",
      "/anaconda3/lib/python3.6/site-packages/ipykernel_launcher.py:12: SettingWithCopyWarning: \n",
      "A value is trying to be set on a copy of a slice from a DataFrame.\n",
      "Try using .loc[row_indexer,col_indexer] = value instead\n",
      "\n",
      "See the caveats in the documentation: http://pandas.pydata.org/pandas-docs/stable/indexing.html#indexing-view-versus-copy\n",
      "  if sys.path[0] == '':\n",
      "/anaconda3/lib/python3.6/site-packages/ipykernel_launcher.py:13: SettingWithCopyWarning: \n",
      "A value is trying to be set on a copy of a slice from a DataFrame.\n",
      "Try using .loc[row_indexer,col_indexer] = value instead\n",
      "\n",
      "See the caveats in the documentation: http://pandas.pydata.org/pandas-docs/stable/indexing.html#indexing-view-versus-copy\n",
      "  del sys.path[0]\n",
      "/anaconda3/lib/python3.6/site-packages/ipykernel_launcher.py:14: SettingWithCopyWarning: \n",
      "A value is trying to be set on a copy of a slice from a DataFrame.\n",
      "Try using .loc[row_indexer,col_indexer] = value instead\n",
      "\n",
      "See the caveats in the documentation: http://pandas.pydata.org/pandas-docs/stable/indexing.html#indexing-view-versus-copy\n",
      "  \n",
      "/anaconda3/lib/python3.6/site-packages/ipykernel_launcher.py:15: SettingWithCopyWarning: \n",
      "A value is trying to be set on a copy of a slice from a DataFrame.\n",
      "Try using .loc[row_indexer,col_indexer] = value instead\n",
      "\n",
      "See the caveats in the documentation: http://pandas.pydata.org/pandas-docs/stable/indexing.html#indexing-view-versus-copy\n",
      "  from ipykernel import kernelapp as app\n",
      "/anaconda3/lib/python3.6/site-packages/ipykernel_launcher.py:16: SettingWithCopyWarning: \n",
      "A value is trying to be set on a copy of a slice from a DataFrame.\n",
      "Try using .loc[row_indexer,col_indexer] = value instead\n",
      "\n",
      "See the caveats in the documentation: http://pandas.pydata.org/pandas-docs/stable/indexing.html#indexing-view-versus-copy\n",
      "  app.launch_new_instance()\n",
      "/anaconda3/lib/python3.6/site-packages/ipykernel_launcher.py:17: SettingWithCopyWarning: \n",
      "A value is trying to be set on a copy of a slice from a DataFrame.\n",
      "Try using .loc[row_indexer,col_indexer] = value instead\n",
      "\n",
      "See the caveats in the documentation: http://pandas.pydata.org/pandas-docs/stable/indexing.html#indexing-view-versus-copy\n",
      "/anaconda3/lib/python3.6/site-packages/ipykernel_launcher.py:21: SettingWithCopyWarning: \n",
      "A value is trying to be set on a copy of a slice from a DataFrame.\n",
      "Try using .loc[row_indexer,col_indexer] = value instead\n",
      "\n",
      "See the caveats in the documentation: http://pandas.pydata.org/pandas-docs/stable/indexing.html#indexing-view-versus-copy\n",
      "/anaconda3/lib/python3.6/site-packages/ipykernel_launcher.py:22: SettingWithCopyWarning: \n",
      "A value is trying to be set on a copy of a slice from a DataFrame.\n",
      "Try using .loc[row_indexer,col_indexer] = value instead\n",
      "\n",
      "See the caveats in the documentation: http://pandas.pydata.org/pandas-docs/stable/indexing.html#indexing-view-versus-copy\n",
      "/anaconda3/lib/python3.6/site-packages/ipykernel_launcher.py:23: SettingWithCopyWarning: \n",
      "A value is trying to be set on a copy of a slice from a DataFrame.\n",
      "Try using .loc[row_indexer,col_indexer] = value instead\n",
      "\n",
      "See the caveats in the documentation: http://pandas.pydata.org/pandas-docs/stable/indexing.html#indexing-view-versus-copy\n",
      "/anaconda3/lib/python3.6/site-packages/ipykernel_launcher.py:24: SettingWithCopyWarning: \n",
      "A value is trying to be set on a copy of a slice from a DataFrame.\n",
      "Try using .loc[row_indexer,col_indexer] = value instead\n",
      "\n",
      "See the caveats in the documentation: http://pandas.pydata.org/pandas-docs/stable/indexing.html#indexing-view-versus-copy\n",
      "/anaconda3/lib/python3.6/site-packages/ipykernel_launcher.py:25: SettingWithCopyWarning: \n",
      "A value is trying to be set on a copy of a slice from a DataFrame.\n",
      "Try using .loc[row_indexer,col_indexer] = value instead\n",
      "\n",
      "See the caveats in the documentation: http://pandas.pydata.org/pandas-docs/stable/indexing.html#indexing-view-versus-copy\n",
      "/anaconda3/lib/python3.6/site-packages/ipykernel_launcher.py:26: SettingWithCopyWarning: \n",
      "A value is trying to be set on a copy of a slice from a DataFrame.\n",
      "Try using .loc[row_indexer,col_indexer] = value instead\n",
      "\n",
      "See the caveats in the documentation: http://pandas.pydata.org/pandas-docs/stable/indexing.html#indexing-view-versus-copy\n",
      "/anaconda3/lib/python3.6/site-packages/ipykernel_launcher.py:27: SettingWithCopyWarning: \n",
      "A value is trying to be set on a copy of a slice from a DataFrame.\n",
      "Try using .loc[row_indexer,col_indexer] = value instead\n",
      "\n",
      "See the caveats in the documentation: http://pandas.pydata.org/pandas-docs/stable/indexing.html#indexing-view-versus-copy\n",
      "/anaconda3/lib/python3.6/site-packages/ipykernel_launcher.py:28: SettingWithCopyWarning: \n",
      "A value is trying to be set on a copy of a slice from a DataFrame.\n",
      "Try using .loc[row_indexer,col_indexer] = value instead\n",
      "\n",
      "See the caveats in the documentation: http://pandas.pydata.org/pandas-docs/stable/indexing.html#indexing-view-versus-copy\n"
     ]
    }
   ],
   "source": [
    "df_NLP_recommender['summary'] = df_NLP_recommender['summary'].map(lambda x: re.sub('[^a-zA-Z1-9!?.]', ' ', x))\n",
    "df_NLP_recommender['name'] = df_NLP_recommender['name'].map(lambda x: re.sub('[^a-zA-Z1-9!?.]', ' ', x))\n",
    "df_NLP_recommender['space'] = df_NLP_recommender['space'].map(lambda x: re.sub('[^a-zA-Z1-9!?.]', ' ', x))\n",
    "df_NLP_recommender['neighborhood_overview'] = df_NLP_recommender['neighborhood_overview'].map(lambda x: re.sub('[^a-zA-Z1-9!?.]', ' ', x))\n",
    "df_NLP_recommender['notes'] = df_NLP_recommender['notes'].map(lambda x: re.sub('[^a-zA-Z1-9!?.]', ' ', x))\n",
    "df_NLP_recommender['transit'] = df_NLP_recommender['transit'].map(lambda x: re.sub('[^a-zA-Z1-9!?.]', ' ', x))\n",
    "df_NLP_recommender['access'] = df_NLP_recommender['access'].map(lambda x: re.sub('[^a-zA-Z1-9!?.]', ' ', x))\n",
    "df_NLP_recommender['cleaned_amenities'] = df_NLP_recommender['cleaned_amenities'].map(lambda x: re.sub('[^a-zA-Z1-9!?.]', ' ', x))\n",
    "\n",
    "df_NLP_recommender['summary'] = df_NLP_recommender['summary'].str.lower()\n",
    "df_NLP_recommender['name'] = df_NLP_recommender['name'].str.lower()\n",
    "df_NLP_recommender['space'] = df_NLP_recommender['space'].str.lower()\n",
    "df_NLP_recommender['neighborhood_overview'] = df_NLP_recommender['neighborhood_overview'].str.lower()\n",
    "df_NLP_recommender['notes'] = df_NLP_recommender['notes'].str.lower()\n",
    "df_NLP_recommender['transit'] = df_NLP_recommender['transit'].str.lower()\n",
    "df_NLP_recommender['access'] = df_NLP_recommender['access'].str.lower()\n",
    "df_NLP_recommender['cleaned_amenities'] = df_NLP_recommender['cleaned_amenities'].str.lower()\n",
    "\n",
    "\n",
    "stop = stopwords.words('english')\n",
    "df_NLP_recommender['summary'] = df_NLP_recommender['summary'].str.split(' ').apply(lambda x: ' '.join(k for k in x if k not in stop_words))\n",
    "df_NLP_recommender['name'] = df_NLP_recommender['name'].str.split(' ').apply(lambda x: ' '.join(k for k in x if k not in stop_words))\n",
    "df_NLP_recommender['space'] = df_NLP_recommender['space'].str.split(' ').apply(lambda x: ' '.join(k for k in x if k not in stop_words))\n",
    "df_NLP_recommender['neighborhood_overview'] = df_NLP_recommender['neighborhood_overview'].apply(lambda x: ' '.join([word for word in x.split() if word not in (stop_words)]))\n",
    "df_NLP_recommender['notes'] = df_NLP_recommender['notes'].str.split(' ').apply(lambda x: ' '.join(k for k in x if k not in stop_words))\n",
    "df_NLP_recommender['transit'] = df_NLP_recommender['transit'].str.split(' ').apply(lambda x: ' '.join(k for k in x if k not in stop_words))\n",
    "df_NLP_recommender['access'] = df_NLP_recommender['access'].str.split(' ').apply(lambda x: ' '.join(k for k in x if k not in stop_words))\n",
    "df_NLP_recommender['cleaned_amenities'] = df_NLP_recommender['cleaned_amenities'].str.split(' ').apply(lambda x: ' '.join(k for k in x if k not in stop_words))\n",
    "\n",
    "\n"
   ]
  },
  {
   "cell_type": "code",
   "execution_count": 121,
   "metadata": {},
   "outputs": [
    {
     "data": {
      "text/html": [
       "<div>\n",
       "<style scoped>\n",
       "    .dataframe tbody tr th:only-of-type {\n",
       "        vertical-align: middle;\n",
       "    }\n",
       "\n",
       "    .dataframe tbody tr th {\n",
       "        vertical-align: top;\n",
       "    }\n",
       "\n",
       "    .dataframe thead th {\n",
       "        text-align: right;\n",
       "    }\n",
       "</style>\n",
       "<table border=\"1\" class=\"dataframe\">\n",
       "  <thead>\n",
       "    <tr style=\"text-align: right;\">\n",
       "      <th></th>\n",
       "      <th>listing_url</th>\n",
       "      <th>name</th>\n",
       "      <th>summary</th>\n",
       "      <th>space</th>\n",
       "      <th>neighborhood_overview</th>\n",
       "      <th>notes</th>\n",
       "      <th>transit</th>\n",
       "      <th>access</th>\n",
       "      <th>cleaned_amenities</th>\n",
       "    </tr>\n",
       "  </thead>\n",
       "  <tbody>\n",
       "    <tr>\n",
       "      <th>0</th>\n",
       "      <td>https://www.airbnb.com/rooms/18461891</td>\n",
       "      <td>bright  comfortable 1b studio near everything!</td>\n",
       "      <td>looking fill specific dates  june 24   june 2...</td>\n",
       "      <td>well illuminated space includes comfortable qu...</td>\n",
       "      <td>michelin rated restaurants area trendy bars ca...</td>\n",
       "      <td></td>\n",
       "      <td>astoria safe quaint neighborhood  apartment lo...</td>\n",
       "      <td>important  space suitable children  two window...</td>\n",
       "      <td>tv  wireless internet   air conditioning  kit...</td>\n",
       "    </tr>\n",
       "    <tr>\n",
       "      <th>1</th>\n",
       "      <td>https://www.airbnb.com/rooms/20702398</td>\n",
       "      <td>quiet house city island</td>\n",
       "      <td>1 private bedroom bathroom available one two g...</td>\n",
       "      <td></td>\n",
       "      <td>neighborhood dope! lot seafood restaurants bar...</td>\n",
       "      <td>loud parties hard drugs wifi tv</td>\n",
       "      <td>walk! island 1.5 miles long. public transporta...</td>\n",
       "      <td>kitchen  laundry  living room  back yard</td>\n",
       "      <td>wireless internet   air conditioning  kitche...</td>\n",
       "    </tr>\n",
       "    <tr>\n",
       "      <th>2</th>\n",
       "      <td>https://www.airbnb.com/rooms/6627449</td>\n",
       "      <td>large 1 bdrm great location</td>\n",
       "      <td>ground floor apartment light airy fully equipp...</td>\n",
       "      <td>close fishing  boating  biking  horseback ridi...</td>\n",
       "      <td>city island unique hidden gem new york city. m...</td>\n",
       "      <td>street parking apartment complex.  reserved sp...</td>\n",
       "      <td>2  blocks bx29 bus take pelham bay subway sta...</td>\n",
       "      <td>entire apartment available part time.  patio b...</td>\n",
       "      <td>tv internet  wireless internet   air conditio...</td>\n",
       "    </tr>\n",
       "    <tr>\n",
       "      <th>3</th>\n",
       "      <td>https://www.airbnb.com/rooms/19949243</td>\n",
       "      <td>stay aboard  sailboat</td>\n",
       "      <td>stay aboard sailboat</td>\n",
       "      <td></td>\n",
       "      <td></td>\n",
       "      <td></td>\n",
       "      <td></td>\n",
       "      <td></td>\n",
       "      <td></td>\n",
       "    </tr>\n",
       "    <tr>\n",
       "      <th>4</th>\n",
       "      <td>https://www.airbnb.com/rooms/1886820</td>\n",
       "      <td>quaint city island community.</td>\n",
       "      <td>quiet island  boating town long island sound. ...</td>\n",
       "      <td>master bed queen bed  full bath office.  mid ...</td>\n",
       "      <td>small new england type town middle big city. s...</td>\n",
       "      <td></td>\n",
       "      <td>parking available driveway.  bus stop around c...</td>\n",
       "      <td>2 story 18   sq ft house yourselves.</td>\n",
       "      <td>tv  cable tv  internet  wireless internet   a...</td>\n",
       "    </tr>\n",
       "  </tbody>\n",
       "</table>\n",
       "</div>"
      ],
      "text/plain": [
       "                             listing_url  \\\n",
       "0  https://www.airbnb.com/rooms/18461891   \n",
       "1  https://www.airbnb.com/rooms/20702398   \n",
       "2   https://www.airbnb.com/rooms/6627449   \n",
       "3  https://www.airbnb.com/rooms/19949243   \n",
       "4   https://www.airbnb.com/rooms/1886820   \n",
       "\n",
       "                                             name  \\\n",
       "0  bright  comfortable 1b studio near everything!   \n",
       "1                         quiet house city island   \n",
       "2                     large 1 bdrm great location   \n",
       "3                           stay aboard  sailboat   \n",
       "4                  quaint city island community.    \n",
       "\n",
       "                                             summary  \\\n",
       "0   looking fill specific dates  june 24   june 2...   \n",
       "1  1 private bedroom bathroom available one two g...   \n",
       "2  ground floor apartment light airy fully equipp...   \n",
       "3                               stay aboard sailboat   \n",
       "4  quiet island  boating town long island sound. ...   \n",
       "\n",
       "                                               space  \\\n",
       "0  well illuminated space includes comfortable qu...   \n",
       "1                                                      \n",
       "2  close fishing  boating  biking  horseback ridi...   \n",
       "3                                                      \n",
       "4   master bed queen bed  full bath office.  mid ...   \n",
       "\n",
       "                               neighborhood_overview  \\\n",
       "0  michelin rated restaurants area trendy bars ca...   \n",
       "1  neighborhood dope! lot seafood restaurants bar...   \n",
       "2  city island unique hidden gem new york city. m...   \n",
       "3                                                      \n",
       "4  small new england type town middle big city. s...   \n",
       "\n",
       "                                               notes  \\\n",
       "0                                                      \n",
       "1                    loud parties hard drugs wifi tv   \n",
       "2  street parking apartment complex.  reserved sp...   \n",
       "3                                                      \n",
       "4                                                      \n",
       "\n",
       "                                             transit  \\\n",
       "0  astoria safe quaint neighborhood  apartment lo...   \n",
       "1  walk! island 1.5 miles long. public transporta...   \n",
       "2   2  blocks bx29 bus take pelham bay subway sta...   \n",
       "3                                                      \n",
       "4  parking available driveway.  bus stop around c...   \n",
       "\n",
       "                                              access  \\\n",
       "0  important  space suitable children  two window...   \n",
       "1           kitchen  laundry  living room  back yard   \n",
       "2  entire apartment available part time.  patio b...   \n",
       "3                                                      \n",
       "4              2 story 18   sq ft house yourselves.    \n",
       "\n",
       "                                   cleaned_amenities  \n",
       "0   tv  wireless internet   air conditioning  kit...  \n",
       "1    wireless internet   air conditioning  kitche...  \n",
       "2   tv internet  wireless internet   air conditio...  \n",
       "3                                                     \n",
       "4   tv  cable tv  internet  wireless internet   a...  "
      ]
     },
     "execution_count": 121,
     "metadata": {},
     "output_type": "execute_result"
    }
   ],
   "source": [
    "df_NLP_recommender.head()"
   ]
  },
  {
   "cell_type": "code",
   "execution_count": 122,
   "metadata": {},
   "outputs": [
    {
     "data": {
      "text/plain": [
       "' looking fill specific dates  june 24   june 28  cozy 1 bedroom 1 bathroom studio apartment top floor prewar building  conveniently located 2.5 blocks choice 2 n w stations  2  minute ride manhattan. cafes  restaurants  wine shops  grocery cvs nearby. laundromat around corner. beautiful riverside astoria park 15 minute walk building.'"
      ]
     },
     "execution_count": 122,
     "metadata": {},
     "output_type": "execute_result"
    }
   ],
   "source": [
    "df_NLP_recommender['summary'][0]"
   ]
  },
  {
   "cell_type": "code",
   "execution_count": 123,
   "metadata": {},
   "outputs": [],
   "source": [
    "df_NLP_recommender.set_index('listing_url', inplace = True)"
   ]
  },
  {
   "cell_type": "code",
   "execution_count": 124,
   "metadata": {},
   "outputs": [
    {
     "data": {
      "text/html": [
       "<div>\n",
       "<style scoped>\n",
       "    .dataframe tbody tr th:only-of-type {\n",
       "        vertical-align: middle;\n",
       "    }\n",
       "\n",
       "    .dataframe tbody tr th {\n",
       "        vertical-align: top;\n",
       "    }\n",
       "\n",
       "    .dataframe thead th {\n",
       "        text-align: right;\n",
       "    }\n",
       "</style>\n",
       "<table border=\"1\" class=\"dataframe\">\n",
       "  <thead>\n",
       "    <tr style=\"text-align: right;\">\n",
       "      <th></th>\n",
       "      <th>name</th>\n",
       "      <th>summary</th>\n",
       "      <th>space</th>\n",
       "      <th>neighborhood_overview</th>\n",
       "      <th>notes</th>\n",
       "      <th>transit</th>\n",
       "      <th>access</th>\n",
       "      <th>cleaned_amenities</th>\n",
       "    </tr>\n",
       "    <tr>\n",
       "      <th>listing_url</th>\n",
       "      <th></th>\n",
       "      <th></th>\n",
       "      <th></th>\n",
       "      <th></th>\n",
       "      <th></th>\n",
       "      <th></th>\n",
       "      <th></th>\n",
       "      <th></th>\n",
       "    </tr>\n",
       "  </thead>\n",
       "  <tbody>\n",
       "    <tr>\n",
       "      <th>https://www.airbnb.com/rooms/18461891</th>\n",
       "      <td>bright  comfortable 1b studio near everything!</td>\n",
       "      <td>looking fill specific dates  june 24   june 2...</td>\n",
       "      <td>well illuminated space includes comfortable qu...</td>\n",
       "      <td>michelin rated restaurants area trendy bars ca...</td>\n",
       "      <td></td>\n",
       "      <td>astoria safe quaint neighborhood  apartment lo...</td>\n",
       "      <td>important  space suitable children  two window...</td>\n",
       "      <td>tv  wireless internet   air conditioning  kit...</td>\n",
       "    </tr>\n",
       "    <tr>\n",
       "      <th>https://www.airbnb.com/rooms/20702398</th>\n",
       "      <td>quiet house city island</td>\n",
       "      <td>1 private bedroom bathroom available one two g...</td>\n",
       "      <td></td>\n",
       "      <td>neighborhood dope! lot seafood restaurants bar...</td>\n",
       "      <td>loud parties hard drugs wifi tv</td>\n",
       "      <td>walk! island 1.5 miles long. public transporta...</td>\n",
       "      <td>kitchen  laundry  living room  back yard</td>\n",
       "      <td>wireless internet   air conditioning  kitche...</td>\n",
       "    </tr>\n",
       "    <tr>\n",
       "      <th>https://www.airbnb.com/rooms/6627449</th>\n",
       "      <td>large 1 bdrm great location</td>\n",
       "      <td>ground floor apartment light airy fully equipp...</td>\n",
       "      <td>close fishing  boating  biking  horseback ridi...</td>\n",
       "      <td>city island unique hidden gem new york city. m...</td>\n",
       "      <td>street parking apartment complex.  reserved sp...</td>\n",
       "      <td>2  blocks bx29 bus take pelham bay subway sta...</td>\n",
       "      <td>entire apartment available part time.  patio b...</td>\n",
       "      <td>tv internet  wireless internet   air conditio...</td>\n",
       "    </tr>\n",
       "    <tr>\n",
       "      <th>https://www.airbnb.com/rooms/19949243</th>\n",
       "      <td>stay aboard  sailboat</td>\n",
       "      <td>stay aboard sailboat</td>\n",
       "      <td></td>\n",
       "      <td></td>\n",
       "      <td></td>\n",
       "      <td></td>\n",
       "      <td></td>\n",
       "      <td></td>\n",
       "    </tr>\n",
       "    <tr>\n",
       "      <th>https://www.airbnb.com/rooms/1886820</th>\n",
       "      <td>quaint city island community.</td>\n",
       "      <td>quiet island  boating town long island sound. ...</td>\n",
       "      <td>master bed queen bed  full bath office.  mid ...</td>\n",
       "      <td>small new england type town middle big city. s...</td>\n",
       "      <td></td>\n",
       "      <td>parking available driveway.  bus stop around c...</td>\n",
       "      <td>2 story 18   sq ft house yourselves.</td>\n",
       "      <td>tv  cable tv  internet  wireless internet   a...</td>\n",
       "    </tr>\n",
       "  </tbody>\n",
       "</table>\n",
       "</div>"
      ],
      "text/plain": [
       "                                                                                 name  \\\n",
       "listing_url                                                                             \n",
       "https://www.airbnb.com/rooms/18461891  bright  comfortable 1b studio near everything!   \n",
       "https://www.airbnb.com/rooms/20702398                         quiet house city island   \n",
       "https://www.airbnb.com/rooms/6627449                      large 1 bdrm great location   \n",
       "https://www.airbnb.com/rooms/19949243                           stay aboard  sailboat   \n",
       "https://www.airbnb.com/rooms/1886820                   quaint city island community.    \n",
       "\n",
       "                                                                                 summary  \\\n",
       "listing_url                                                                                \n",
       "https://www.airbnb.com/rooms/18461891   looking fill specific dates  june 24   june 2...   \n",
       "https://www.airbnb.com/rooms/20702398  1 private bedroom bathroom available one two g...   \n",
       "https://www.airbnb.com/rooms/6627449   ground floor apartment light airy fully equipp...   \n",
       "https://www.airbnb.com/rooms/19949243                               stay aboard sailboat   \n",
       "https://www.airbnb.com/rooms/1886820   quiet island  boating town long island sound. ...   \n",
       "\n",
       "                                                                                   space  \\\n",
       "listing_url                                                                                \n",
       "https://www.airbnb.com/rooms/18461891  well illuminated space includes comfortable qu...   \n",
       "https://www.airbnb.com/rooms/20702398                                                      \n",
       "https://www.airbnb.com/rooms/6627449   close fishing  boating  biking  horseback ridi...   \n",
       "https://www.airbnb.com/rooms/19949243                                                      \n",
       "https://www.airbnb.com/rooms/1886820    master bed queen bed  full bath office.  mid ...   \n",
       "\n",
       "                                                                   neighborhood_overview  \\\n",
       "listing_url                                                                                \n",
       "https://www.airbnb.com/rooms/18461891  michelin rated restaurants area trendy bars ca...   \n",
       "https://www.airbnb.com/rooms/20702398  neighborhood dope! lot seafood restaurants bar...   \n",
       "https://www.airbnb.com/rooms/6627449   city island unique hidden gem new york city. m...   \n",
       "https://www.airbnb.com/rooms/19949243                                                      \n",
       "https://www.airbnb.com/rooms/1886820   small new england type town middle big city. s...   \n",
       "\n",
       "                                                                                   notes  \\\n",
       "listing_url                                                                                \n",
       "https://www.airbnb.com/rooms/18461891                                                      \n",
       "https://www.airbnb.com/rooms/20702398                    loud parties hard drugs wifi tv   \n",
       "https://www.airbnb.com/rooms/6627449   street parking apartment complex.  reserved sp...   \n",
       "https://www.airbnb.com/rooms/19949243                                                      \n",
       "https://www.airbnb.com/rooms/1886820                                                       \n",
       "\n",
       "                                                                                 transit  \\\n",
       "listing_url                                                                                \n",
       "https://www.airbnb.com/rooms/18461891  astoria safe quaint neighborhood  apartment lo...   \n",
       "https://www.airbnb.com/rooms/20702398  walk! island 1.5 miles long. public transporta...   \n",
       "https://www.airbnb.com/rooms/6627449    2  blocks bx29 bus take pelham bay subway sta...   \n",
       "https://www.airbnb.com/rooms/19949243                                                      \n",
       "https://www.airbnb.com/rooms/1886820   parking available driveway.  bus stop around c...   \n",
       "\n",
       "                                                                                  access  \\\n",
       "listing_url                                                                                \n",
       "https://www.airbnb.com/rooms/18461891  important  space suitable children  two window...   \n",
       "https://www.airbnb.com/rooms/20702398           kitchen  laundry  living room  back yard   \n",
       "https://www.airbnb.com/rooms/6627449   entire apartment available part time.  patio b...   \n",
       "https://www.airbnb.com/rooms/19949243                                                      \n",
       "https://www.airbnb.com/rooms/1886820               2 story 18   sq ft house yourselves.    \n",
       "\n",
       "                                                                       cleaned_amenities  \n",
       "listing_url                                                                               \n",
       "https://www.airbnb.com/rooms/18461891   tv  wireless internet   air conditioning  kit...  \n",
       "https://www.airbnb.com/rooms/20702398    wireless internet   air conditioning  kitche...  \n",
       "https://www.airbnb.com/rooms/6627449    tv internet  wireless internet   air conditio...  \n",
       "https://www.airbnb.com/rooms/19949243                                                     \n",
       "https://www.airbnb.com/rooms/1886820    tv  cable tv  internet  wireless internet   a...  "
      ]
     },
     "execution_count": 124,
     "metadata": {},
     "output_type": "execute_result"
    }
   ],
   "source": [
    "df_NLP_recommender.head()"
   ]
  },
  {
   "cell_type": "code",
   "execution_count": 125,
   "metadata": {},
   "outputs": [
    {
     "name": "stderr",
     "output_type": "stream",
     "text": [
      "/anaconda3/lib/python3.6/site-packages/ipykernel_launcher.py:1: SettingWithCopyWarning: \n",
      "A value is trying to be set on a copy of a slice from a DataFrame.\n",
      "Try using .loc[row_indexer,col_indexer] = value instead\n",
      "\n",
      "See the caveats in the documentation: http://pandas.pydata.org/pandas-docs/stable/indexing.html#indexing-view-versus-copy\n",
      "  \"\"\"Entry point for launching an IPython kernel.\n"
     ]
    }
   ],
   "source": [
    "df_NLP_recommender['combined_columns'] = ''\n",
    "columns = df_NLP_recommender.columns\n",
    "for index, row in df_NLP_recommender.iterrows():\n",
    "    words = ''\n",
    "    for col in columns:\n",
    "       \n",
    "            words = words + row[col] + ' '\n",
    "    row['combined_columns'] = words\n",
    "    \n"
   ]
  },
  {
   "cell_type": "code",
   "execution_count": 126,
   "metadata": {},
   "outputs": [
    {
     "data": {
      "text/plain": [
       "listing_url\n",
       "https://www.airbnb.com/rooms/18461891    bright  comfortable 1b studio near everything!...\n",
       "https://www.airbnb.com/rooms/20702398    quiet house city island 1 private bedroom bath...\n",
       "https://www.airbnb.com/rooms/6627449     large 1 bdrm great location ground floor apart...\n",
       "https://www.airbnb.com/rooms/19949243    stay aboard  sailboat stay aboard sailboat    ...\n",
       "https://www.airbnb.com/rooms/1886820     quaint city island community.  quiet island  b...\n",
       "Name: combined_columns, dtype: object"
      ]
     },
     "execution_count": 126,
     "metadata": {},
     "output_type": "execute_result"
    }
   ],
   "source": [
    "df_NLP_recommender['combined_columns'].head()\n"
   ]
  },
  {
   "cell_type": "code",
   "execution_count": 127,
   "metadata": {},
   "outputs": [],
   "source": [
    "from sklearn.feature_extraction.text import TfidfVectorizer\n",
    "from sklearn.feature_selection import SelectPercentile\n",
    "from sklearn.metrics.pairwise import cosine_similarity\n",
    "from sklearn.discriminant_analysis import LinearDiscriminantAnalysis"
   ]
  },
  {
   "cell_type": "code",
   "execution_count": 128,
   "metadata": {},
   "outputs": [],
   "source": [
    "vectorizer = TfidfVectorizer(sublinear_tf=True, min_df=6, stop_words='english')"
   ]
  },
  {
   "cell_type": "code",
   "execution_count": 129,
   "metadata": {},
   "outputs": [],
   "source": [
    "recommender_matrix = vectorizer.fit_transform(df_NLP_recommender['combined_columns'])"
   ]
  },
  {
   "cell_type": "code",
   "execution_count": 130,
   "metadata": {},
   "outputs": [],
   "source": [
    "index = pd.Series(df_NLP_recommender.index)"
   ]
  },
  {
   "cell_type": "code",
   "execution_count": 131,
   "metadata": {},
   "outputs": [
    {
     "data": {
      "text/plain": [
       "0    https://www.airbnb.com/rooms/18461891\n",
       "1    https://www.airbnb.com/rooms/20702398\n",
       "2     https://www.airbnb.com/rooms/6627449\n",
       "3    https://www.airbnb.com/rooms/19949243\n",
       "4     https://www.airbnb.com/rooms/1886820\n",
       "Name: listing_url, dtype: object"
      ]
     },
     "execution_count": 131,
     "metadata": {},
     "output_type": "execute_result"
    }
   ],
   "source": [
    "index[:5]"
   ]
  },
  {
   "cell_type": "code",
   "execution_count": 132,
   "metadata": {},
   "outputs": [
    {
     "data": {
      "text/plain": [
       "(44317, 13781)"
      ]
     },
     "execution_count": 132,
     "metadata": {},
     "output_type": "execute_result"
    }
   ],
   "source": [
    "\n",
    "recommender_matrix.shape\n"
   ]
  },
  {
   "cell_type": "code",
   "execution_count": 133,
   "metadata": {},
   "outputs": [],
   "source": [
    "from sklearn.decomposition import TruncatedSVD\n",
    "svd = TruncatedSVD(n_components=1400, n_iter=7, random_state=42)\n",
    "recommender_matrix = svd.fit_transform(recommender_matrix)"
   ]
  },
  {
   "cell_type": "code",
   "execution_count": 134,
   "metadata": {},
   "outputs": [
    {
     "data": {
      "text/plain": [
       "(44317, 1400)"
      ]
     },
     "execution_count": 134,
     "metadata": {},
     "output_type": "execute_result"
    }
   ],
   "source": [
    "recommender_matrix.shape"
   ]
  },
  {
   "cell_type": "code",
   "execution_count": 135,
   "metadata": {},
   "outputs": [
    {
     "data": {
      "text/plain": [
       "array([[1.        , 0.12744782, 0.14119677, ..., 0.06639366, 0.09648542,\n",
       "        0.15518333],\n",
       "       [0.12744782, 1.        , 0.33741118, ..., 0.24237996, 0.14835907,\n",
       "        0.13931672],\n",
       "       [0.14119677, 0.33741118, 1.        , ..., 0.19546868, 0.12602034,\n",
       "        0.18876348],\n",
       "       ...,\n",
       "       [0.06639366, 0.24237996, 0.19546868, ..., 1.        , 0.09942609,\n",
       "        0.1736602 ],\n",
       "       [0.09648542, 0.14835907, 0.12602034, ..., 0.09942609, 1.        ,\n",
       "        0.09688072],\n",
       "       [0.15518333, 0.13931672, 0.18876348, ..., 0.1736602 , 0.09688072,\n",
       "        1.        ]])"
      ]
     },
     "execution_count": 135,
     "metadata": {},
     "output_type": "execute_result"
    }
   ],
   "source": [
    "cosine_sim = cosine_similarity(recommender_matrix, recommender_matrix)\n",
    "cosine_sim"
   ]
  },
  {
   "cell_type": "code",
   "execution_count": 136,
   "metadata": {},
   "outputs": [
    {
     "data": {
      "text/plain": [
       "(44317, 44317)"
      ]
     },
     "execution_count": 136,
     "metadata": {},
     "output_type": "execute_result"
    }
   ],
   "source": [
    "cosine_sim.shape"
   ]
  },
  {
   "cell_type": "code",
   "execution_count": 137,
   "metadata": {},
   "outputs": [],
   "source": [
    "def predict_NLP(link, cosine_sim = cosine_sim):\n",
    "    \n",
    "    recommended_listings = []\n",
    "    \n",
    "    num = index[index == link].index[0]\n",
    "    score = pd.Series(cosine_sim[num]).sort_values(ascending = False)\n",
    "    top = list(score.iloc[1:11].index)\n",
    "    for i in top:\n",
    "        recommended_listings.append(list(df_NLP_recommender.index)[i])\n",
    "        \n",
    "    return recommended_listings"
   ]
  },
  {
   "cell_type": "code",
   "execution_count": 138,
   "metadata": {},
   "outputs": [],
   "source": [
    "result = predict_NLP(\"https://www.airbnb.com/rooms/20702398\")"
   ]
  },
  {
   "cell_type": "code",
   "execution_count": 139,
   "metadata": {},
   "outputs": [
    {
     "data": {
      "text/plain": [
       "['https://www.airbnb.com/rooms/9147025',\n",
       " 'https://www.airbnb.com/rooms/1014313',\n",
       " 'https://www.airbnb.com/rooms/3721380',\n",
       " 'https://www.airbnb.com/rooms/19661733',\n",
       " 'https://www.airbnb.com/rooms/18305741',\n",
       " 'https://www.airbnb.com/rooms/738588',\n",
       " 'https://www.airbnb.com/rooms/6627449',\n",
       " 'https://www.airbnb.com/rooms/11675715',\n",
       " 'https://www.airbnb.com/rooms/5068640',\n",
       " 'https://www.airbnb.com/rooms/16650268']"
      ]
     },
     "execution_count": 139,
     "metadata": {},
     "output_type": "execute_result"
    }
   ],
   "source": [
    "result"
   ]
  },
  {
   "cell_type": "code",
   "execution_count": 140,
   "metadata": {},
   "outputs": [
    {
     "data": {
      "text/html": [
       "<div>\n",
       "<style scoped>\n",
       "    .dataframe tbody tr th:only-of-type {\n",
       "        vertical-align: middle;\n",
       "    }\n",
       "\n",
       "    .dataframe tbody tr th {\n",
       "        vertical-align: top;\n",
       "    }\n",
       "\n",
       "    .dataframe thead th {\n",
       "        text-align: right;\n",
       "    }\n",
       "</style>\n",
       "<table border=\"1\" class=\"dataframe\">\n",
       "  <thead>\n",
       "    <tr style=\"text-align: right;\">\n",
       "      <th></th>\n",
       "      <th>id</th>\n",
       "      <th>listing_url</th>\n",
       "      <th>scrape_id</th>\n",
       "      <th>last_scraped</th>\n",
       "      <th>name</th>\n",
       "      <th>summary</th>\n",
       "      <th>space</th>\n",
       "      <th>description</th>\n",
       "      <th>experiences_offered</th>\n",
       "      <th>neighborhood_overview</th>\n",
       "      <th>...</th>\n",
       "      <th>license</th>\n",
       "      <th>jurisdiction_names</th>\n",
       "      <th>instant_bookable</th>\n",
       "      <th>is_business_travel_ready</th>\n",
       "      <th>cancellation_policy</th>\n",
       "      <th>require_guest_profile_picture</th>\n",
       "      <th>require_guest_phone_verification</th>\n",
       "      <th>calculated_host_listings_count</th>\n",
       "      <th>reviews_per_month</th>\n",
       "      <th>cleaned_amenities</th>\n",
       "    </tr>\n",
       "  </thead>\n",
       "  <tbody>\n",
       "    <tr>\n",
       "      <th>10</th>\n",
       "      <td>9147025</td>\n",
       "      <td>https://www.airbnb.com/rooms/9147025</td>\n",
       "      <td>20171002002103</td>\n",
       "      <td>2017-10-03</td>\n",
       "      <td>Cozy City Island Cottage</td>\n",
       "      <td>City Island is a small community at the edge o...</td>\n",
       "      <td>This cozy little cottage is an open floor plan...</td>\n",
       "      <td>City Island is a small community at the edge o...</td>\n",
       "      <td>none</td>\n",
       "      <td>City Island is famous for it's seafood restaur...</td>\n",
       "      <td>...</td>\n",
       "      <td></td>\n",
       "      <td></td>\n",
       "      <td>f</td>\n",
       "      <td>t</td>\n",
       "      <td>moderate</td>\n",
       "      <td>f</td>\n",
       "      <td>f</td>\n",
       "      <td>1</td>\n",
       "      <td>2.78</td>\n",
       "      <td>TV  Wireless Internet   Air conditioning  Kit...</td>\n",
       "    </tr>\n",
       "  </tbody>\n",
       "</table>\n",
       "<p>1 rows × 97 columns</p>\n",
       "</div>"
      ],
      "text/plain": [
       "         id                           listing_url       scrape_id  \\\n",
       "10  9147025  https://www.airbnb.com/rooms/9147025  20171002002103   \n",
       "\n",
       "   last_scraped                      name  \\\n",
       "10   2017-10-03  Cozy City Island Cottage   \n",
       "\n",
       "                                              summary  \\\n",
       "10  City Island is a small community at the edge o...   \n",
       "\n",
       "                                                space  \\\n",
       "10  This cozy little cottage is an open floor plan...   \n",
       "\n",
       "                                          description experiences_offered  \\\n",
       "10  City Island is a small community at the edge o...                none   \n",
       "\n",
       "                                neighborhood_overview  \\\n",
       "10  City Island is famous for it's seafood restaur...   \n",
       "\n",
       "                          ...                         license  \\\n",
       "10                        ...                                   \n",
       "\n",
       "   jurisdiction_names instant_bookable is_business_travel_ready  \\\n",
       "10                                   f                        t   \n",
       "\n",
       "   cancellation_policy require_guest_profile_picture  \\\n",
       "10            moderate                             f   \n",
       "\n",
       "   require_guest_phone_verification calculated_host_listings_count  \\\n",
       "10                                f                              1   \n",
       "\n",
       "   reviews_per_month                                  cleaned_amenities  \n",
       "10              2.78   TV  Wireless Internet   Air conditioning  Kit...  \n",
       "\n",
       "[1 rows x 97 columns]"
      ]
     },
     "execution_count": 140,
     "metadata": {},
     "output_type": "execute_result"
    }
   ],
   "source": [
    "df.loc[df['listing_url'] == result[0]]"
   ]
  },
  {
   "cell_type": "code",
   "execution_count": 141,
   "metadata": {},
   "outputs": [],
   "source": [
    "test = df.loc[df['listing_url'] == result[1]]"
   ]
  },
  {
   "cell_type": "code",
   "execution_count": 142,
   "metadata": {},
   "outputs": [
    {
     "data": {
      "text/plain": [
       "1014313"
      ]
     },
     "execution_count": 142,
     "metadata": {},
     "output_type": "execute_result"
    }
   ],
   "source": [
    "test['id'].tolist()[0]"
   ]
  },
  {
   "cell_type": "code",
   "execution_count": 143,
   "metadata": {},
   "outputs": [
    {
     "data": {
      "text/plain": [
       "restaurants      14045\n",
       "neighborhood     13706\n",
       "park             11009\n",
       "bars              8715\n",
       "brooklyn          7738\n",
       "great             7732\n",
       "walk              7622\n",
       "new               6657\n",
       "away              6035\n",
       "blocks            5375\n",
       "street            5343\n",
       "one               5305\n",
       "shops             5019\n",
       "east              4984\n",
       "walking           4968\n",
       "1                 4896\n",
       "many              4743\n",
       "also              4707\n",
       "close             4602\n",
       "block             4509\n",
       "manhattan         4355\n",
       "2                 4347\n",
       "within            4308\n",
       "located           4308\n",
       "best              4257\n",
       "minutes           4088\n",
       "area              4030\n",
       "central           4006\n",
       "city              3951\n",
       "food              3875\n",
       "                 ...  \n",
       "avenue            1941\n",
       "short             1939\n",
       "neighborhoods     1906\n",
       "manhattan.        1879\n",
       "15                1867\n",
       "get               1849\n",
       "easy              1842\n",
       "home              1819\n",
       "harlem            1806\n",
       "love              1769\n",
       "access            1762\n",
       "corner            1760\n",
       "find              1745\n",
       "times             1738\n",
       "bar               1722\n",
       "restaurant        1717\n",
       "across            1713\n",
       "everything        1709\n",
       "people            1701\n",
       "store             1673\n",
       "location          1665\n",
       "live              1663\n",
       "river             1661\n",
       "park.             1645\n",
       "parks             1639\n",
       "diverse           1637\n",
       "bushwick          1635\n",
       "heights           1634\n",
       "places            1608\n",
       "famous            1580\n",
       "Length: 100, dtype: int64"
      ]
     },
     "execution_count": 143,
     "metadata": {},
     "output_type": "execute_result"
    }
   ],
   "source": [
    "pd.Series(' '.join(df_NLP_recommender['neighborhood_overview']).lower().split()).value_counts()[:100]"
   ]
  },
  {
   "cell_type": "code",
   "execution_count": null,
   "metadata": {},
   "outputs": [],
   "source": []
  }
 ],
 "metadata": {
  "kernelspec": {
   "display_name": "Python 3",
   "language": "python",
   "name": "python3"
  },
  "language_info": {
   "codemirror_mode": {
    "name": "ipython",
    "version": 3
   },
   "file_extension": ".py",
   "mimetype": "text/x-python",
   "name": "python",
   "nbconvert_exporter": "python",
   "pygments_lexer": "ipython3",
   "version": "3.6.5"
  }
 },
 "nbformat": 4,
 "nbformat_minor": 2
}
